{
 "cells": [
  {
   "cell_type": "markdown",
   "metadata": {},
   "source": [
    "# Stats 21 - HW 3"
   ]
  },
  {
   "cell_type": "markdown",
   "metadata": {},
   "source": [
    "Homework copyright Miles Chen. Problems have been adapted from teh exercises in Think Python 2nd Ed by Allen B. Downey.\n",
    "\n",
    "The questions have been entered into this document. You will modify the document by entering your code.\n",
    "\n",
    "Make sure you run the cell so the requested output is visible. Download the finished document as a PDF file. If you are unable to convert it to a PDF, you can download it as an HTML file and then print to PDF.\n",
    "\n",
    "**Homework is an opportunity to practice coding and to practice problem solving. Doing exercises is where you will do most of your learning.**\n",
    "\n",
    "**Copying someone else's solutions takes away your learning opportunities. It is also academic dishonesty.**"
   ]
  },
  {
   "cell_type": "markdown",
   "metadata": {},
   "source": [
    "## Reading\n",
    "\n",
    "- Chapters 11, 12, and 14\n",
    "\n",
    "Please keep up with the reading. The chapters are short."
   ]
  },
  {
   "cell_type": "markdown",
   "metadata": {},
   "source": [
    "### Exercise 11.1\n",
    "\n",
    "Write a function that reads the words in `words.txt` and stores them as keys in a dictionary. It doesn't matter what the values are. Then you can use the in operator as a fast way to\n",
    "check whether a string is in the dictionary.\n",
    "\n",
    "Use the same `words.txt` file from HW2.\n",
    "\n",
    "Do Exercise 10.10 but this time searching the dictionary using the `in` operator. You can see how much faster it is to search a dictionary."
   ]
  },
  {
   "cell_type": "code",
   "execution_count": 1,
   "metadata": {},
   "outputs": [],
   "source": [
    "words = open(\"words.txt\")\n",
    "\n",
    "def make_word_dict():\n",
    "    word_dict = {}\n",
    "    \n",
    "    for line in words:\n",
    "        newline = line.strip()\n",
    "        word_dict[newline] = 'any value'\n",
    "        \n",
    "    return word_dict"
   ]
  },
  {
   "cell_type": "code",
   "execution_count": 2,
   "metadata": {},
   "outputs": [],
   "source": [
    "word_dict = make_word_dict()"
   ]
  },
  {
   "cell_type": "code",
   "execution_count": 3,
   "metadata": {},
   "outputs": [
    {
     "data": {
      "text/plain": [
       "True"
      ]
     },
     "execution_count": 3,
     "metadata": {},
     "output_type": "execute_result"
    }
   ],
   "source": [
    "\"hello\" in word_dict"
   ]
  },
  {
   "cell_type": "markdown",
   "metadata": {},
   "source": [
    "### Exercise 11.4\n",
    "\n",
    "In Exercise 10.7, you created a function called `has_duplicates()`. It takes a list as a parameter and returns `True` if there is any object that appears more than once in the list.\n",
    "\n",
    "Use a dictionary to write a faster, simpler version of `has_duplicates()`."
   ]
  },
  {
   "cell_type": "code",
   "execution_count": 4,
   "metadata": {},
   "outputs": [],
   "source": [
    "def has_duplicates(t):\n",
    "    d = {}\n",
    "    for i in t:\n",
    "        if i not in d:\n",
    "            d[i] = 1\n",
    "        else:\n",
    "            return True\n",
    "    return False"
   ]
  },
  {
   "cell_type": "code",
   "execution_count": 5,
   "metadata": {},
   "outputs": [
    {
     "data": {
      "text/plain": [
       "True"
      ]
     },
     "execution_count": 5,
     "metadata": {},
     "output_type": "execute_result"
    }
   ],
   "source": [
    "has_duplicates(['a','b','b','c'])"
   ]
  },
  {
   "cell_type": "code",
   "execution_count": 6,
   "metadata": {},
   "outputs": [
    {
     "data": {
      "text/plain": [
       "True"
      ]
     },
     "execution_count": 6,
     "metadata": {},
     "output_type": "execute_result"
    }
   ],
   "source": [
    "has_duplicates(['a','b','c','a'])"
   ]
  },
  {
   "cell_type": "markdown",
   "metadata": {},
   "source": [
    "### Exercise 11.5\n",
    "\n",
    "A Caesar cipher is a weak form of encryption that involves 'rotating' each letter by a fixed number of places. To rotate a letter means to shift it through the alphabet, wrapping around to the beginning if necessary. \"A\" rotated by 3 is \"D\". \"Z\" rotated by 1 is \"A\".\n",
    "\n",
    "Two words are \"rotate pairs\" if you can rotate one of them and get the other. For example, \"cheer\" rotated by 7 is \"jolly\".\n",
    "\n",
    "Write a script that reads in the wordlist `words.txt` and finds all the rotate pairs of words that are 5 letters or longer.\n",
    "\n",
    "One function that could be helpful is the function `ord()` which converts a character to a numeric code. Keep in mind that numeric codes for uppercase and lowercase letters are different.\n",
    "\n",
    "Some hints:\n",
    "\n",
    "- you can write helper functions, such as a function that will rotate a letter by a certain number and/or another function that will rotate a word by a number of letters\n",
    "- to keep your script running quickly, you should use the wordlist dictionary from exercise 11.1"
   ]
  },
  {
   "cell_type": "code",
   "execution_count": 7,
   "metadata": {},
   "outputs": [],
   "source": [
    "def rotate(word, n):\n",
    "    newword = \"\"\n",
    "    \n",
    "    for i in word:\n",
    "        newletter_num = ord(i) + n\n",
    "        if newletter_num > 122:\n",
    "            newletter_num -= 26\n",
    "        newletter = chr(newletter_num)\n",
    "        newword += newletter\n",
    "    \n",
    "    return newword"
   ]
  },
  {
   "cell_type": "code",
   "execution_count": 8,
   "metadata": {},
   "outputs": [
    {
     "name": "stdout",
     "output_type": "stream",
     "text": [
      "abjurer nowhere\n",
      "adder beefs\n",
      "ahull gnarr\n",
      "alkyd epoch\n",
      "alula tenet\n",
      "ambit setal\n",
      "anteed bouffe\n",
      "aptly timer\n",
      "arena river\n",
      "baiza tsars\n",
      "banjo ferns\n",
      "beefs adder\n",
      "benni ruddy\n",
      "biffs holly\n",
      "bolls hurry\n",
      "bombyx hushed\n",
      "bouffe anteed\n",
      "bourg viola\n",
      "buffi hallo\n",
      "bulls harry\n",
      "bunny sleep\n",
      "butyl hazer\n",
      "chain ingot\n",
      "cheer jolly\n",
      "clasp raphe\n",
      "cogon sewed\n",
      "commy secco\n",
      "corky wiles\n",
      "craal penny\n",
      "credo shute\n",
      "creel perry\n",
      "cubed melon\n",
      "curly wolfs\n",
      "cushy wombs\n",
      "danio herms\n",
      "dated spits\n",
      "dawted splits\n",
      "dazed spots\n",
      "didos pupae\n",
      "dolls wheel\n",
      "drips octad\n",
      "ebony uredo\n",
      "eches kinky\n",
      "epoch alkyd\n",
      "fadge torus\n",
      "fagot touch\n",
      "ferns banjo\n",
      "fills lorry\n",
      "fizzy kneed\n",
      "frena wiver\n",
      "frere serer\n",
      "fusion layout\n",
      "ganja kerne\n",
      "gassy smeek\n",
      "ginny motte\n",
      "gnarl xeric\n",
      "gnarr ahull\n",
      "golem murks\n",
      "golly murre\n",
      "green terra\n",
      "gulfs marly\n",
      "gulls marry\n",
      "gummy masse\n",
      "gunny matte\n",
      "hallo buffi\n",
      "harry bulls\n",
      "hazer butyl\n",
      "herms danio\n",
      "hints styed\n",
      "hoggs tasse\n",
      "holly biffs\n",
      "hotel ovals\n",
      "hurry bolls\n",
      "hushed bombyx\n",
      "ingot chain\n",
      "inkier purply\n",
      "jerky snath\n",
      "jiffs polly\n",
      "jimmy posse\n",
      "jinni potto\n",
      "jinns potty\n",
      "johns punty\n",
      "jolly cheer\n",
      "kerne ganja\n",
      "kinky eches\n",
      "kneed fizzy\n",
      "lallan pepper\n",
      "later shaly\n",
      "latex shale\n",
      "layout fusion\n",
      "linum rotas\n",
      "lorry fills\n",
      "luffs rally\n",
      "lutea pyxie\n",
      "manful thumbs\n",
      "marly gulfs\n",
      "marry gulls\n",
      "masse gummy\n",
      "matte gunny\n",
      "melon cubed\n",
      "mills sorry\n",
      "mocha suing\n",
      "molas surgy\n",
      "motte ginny\n",
      "muffs sally\n",
      "mulch sarin\n",
      "mumms sassy\n",
      "munch satin\n",
      "murks golem\n",
      "murre golly\n",
      "muumuu weewee\n",
      "noggs tummy\n",
      "nowhere abjurer\n",
      "nulls tarry\n",
      "nutty tazze\n",
      "octad drips\n",
      "ovals hotel\n",
      "oxter vealy\n",
      "pecan tiger\n",
      "penny craal\n",
      "pepper lallan\n",
      "perry creel\n",
      "polly jiffs\n",
      "posse jimmy\n",
      "potto jinni\n",
      "potty jinns\n",
      "primero sulphur\n",
      "pulpy varve\n",
      "punty johns\n",
      "pupae didos\n",
      "purply inkier\n",
      "pyxie lutea\n",
      "rally luffs\n",
      "raphe clasp\n",
      "ratan vexer\n",
      "river arena\n",
      "rotas linum\n",
      "ruddy benni\n",
      "sally muffs\n",
      "sarin mulch\n",
      "sassy mumms\n",
      "satin munch\n",
      "secco commy\n",
      "serer frere\n",
      "setal ambit\n",
      "sewed cogon\n",
      "shale latex\n",
      "shaly later\n",
      "sheer tiffs\n",
      "shute credo\n",
      "sleep bunny\n",
      "smeek gassy\n",
      "snath jerky\n",
      "sneer toffs\n",
      "sorry mills\n",
      "spits dated\n",
      "splits dawted\n",
      "spots dazed\n",
      "steeds tuffet\n",
      "steer tuffs\n",
      "styed hints\n",
      "suing mocha\n",
      "sulphur primero\n",
      "surgy molas\n",
      "tarry nulls\n",
      "tasse hoggs\n",
      "tazze nutty\n",
      "teloi whorl\n",
      "tenet alula\n",
      "terra green\n",
      "thumbs manful\n",
      "tiffs sheer\n",
      "tiger pecan\n",
      "timer aptly\n",
      "toffs sneer\n",
      "torus fadge\n",
      "touch fagot\n",
      "tsars baiza\n",
      "tuffet steeds\n",
      "tuffs steer\n",
      "tummy noggs\n",
      "uredo ebony\n",
      "varve pulpy\n",
      "vealy oxter\n",
      "vexer ratan\n",
      "viola bourg\n",
      "weewee muumuu\n",
      "wheel dolls\n",
      "whorl teloi\n",
      "wiles corky\n",
      "wiver frena\n",
      "wolfs curly\n",
      "wombs cushy\n",
      "xeric gnarl\n"
     ]
    }
   ],
   "source": [
    "words = open(\"words.txt\")\n",
    "newdict = {}\n",
    "\n",
    "for line in words:\n",
    "    newline = line.strip()\n",
    "    if len(newline) >= 5:\n",
    "        newdict[newline] = 'x'\n",
    "        \n",
    "for word in newdict.keys():\n",
    "    for j in range(1,26):\n",
    "        pair = rotate(word, j)\n",
    "        if pair in newdict:\n",
    "            print(word, pair)"
   ]
  },
  {
   "cell_type": "markdown",
   "metadata": {},
   "source": [
    "### Exercise 12.2\n",
    "\n",
    "Write a program that reads a word list from a file (see Section 9.1) and finds all the sets of words that are anagrams.\n",
    "\n",
    "After finding all anagram sets, print the list of all anagram sets that have 6 or more entries in it.\n",
    "\n",
    "Here is an example of what the output might look like:\n",
    "\n",
    "~~~\n",
    "['abets', 'baste', 'bates', 'beast', 'beats', 'betas', 'tabes']\n",
    "['acers', 'acres', 'cares', 'carse', 'escar', 'races', 'scare', 'serac']\n",
    "['acred', 'arced', 'cadre', 'cared', 'cedar', 'raced']\n",
    "...\n",
    "~~~\n",
    "\n",
    "Hint:\n",
    "\n",
    "First traverse the entire wordlist to build a dictionary that maps from a collection of letters to a list of words that can be spelled with those letters. The question is, how can you represent the collection of letters in a way that can be used as a key? i.e. The word \"eat\" and the word \"tea\" should be in a list associated with a key ('a','e','t')."
   ]
  },
  {
   "cell_type": "code",
   "execution_count": 9,
   "metadata": {},
   "outputs": [
    {
     "name": "stdout",
     "output_type": "stream",
     "text": [
      "['abets', 'baste', 'bates', 'beast', 'beats', 'betas', 'tabes']\n",
      "['acers', 'acres', 'cares', 'carse', 'escar', 'races', 'scare', 'serac']\n",
      "['acred', 'arced', 'cadre', 'cared', 'cedar', 'raced']\n",
      "['aiders', 'deairs', 'irades', 'raised', 'redias', 'resaid']\n",
      "['airts', 'astir', 'sitar', 'stair', 'stria', 'tarsi']\n",
      "['alert', 'alter', 'artel', 'later', 'ratel', 'taler']\n",
      "['alerting', 'altering', 'integral', 'relating', 'tanglier', 'triangle']\n",
      "['alerts', 'alters', 'artels', 'estral', 'laster', 'ratels', 'salter', 'slater', 'staler', 'stelar', 'talers']\n",
      "['alevin', 'alvine', 'valine', 'veinal', 'venial', 'vineal']\n",
      "['algins', 'aligns', 'lasing', 'liangs', 'ligans', 'lingas', 'signal']\n",
      "['aliens', 'alines', 'elains', 'lianes', 'saline', 'silane']\n",
      "['aligners', 'engrails', 'nargiles', 'realigns', 'signaler', 'slangier']\n",
      "['amens', 'manes', 'manse', 'means', 'mensa', 'names', 'nemas']\n",
      "['anestri', 'nastier', 'ratines', 'retains', 'retinas', 'retsina', 'stainer', 'stearin']\n",
      "['angriest', 'astringe', 'ganister', 'gantries', 'granites', 'ingrates', 'rangiest']\n",
      "['apers', 'asper', 'pares', 'parse', 'pears', 'prase', 'presa', 'rapes', 'reaps', 'spare', 'spear']\n",
      "['ardeb', 'barde', 'bared', 'beard', 'bread', 'debar']\n",
      "['ardebs', 'bardes', 'beards', 'breads', 'debars', 'sabred', 'serdab']\n",
      "['ares', 'arse', 'ears', 'eras', 'rase', 'sear', 'sera']\n",
      "['aretes', 'easter', 'eaters', 'reseat', 'seater', 'teaser']\n",
      "['aridest', 'astride', 'diaster', 'disrate', 'staider', 'tardies', 'tirades']\n",
      "['aril', 'lair', 'liar', 'lira', 'rail', 'rial']\n",
      "['ariled', 'derail', 'dialer', 'laired', 'railed', 'redial', 'relaid']\n",
      "['arils', 'lairs', 'liars', 'liras', 'rails', 'rials']\n",
      "['arles', 'earls', 'lares', 'laser', 'lears', 'rales', 'reals', 'seral']\n",
      "['armets', 'master', 'maters', 'matres', 'ramets', 'stream', 'tamers']\n",
      "['arrest', 'rarest', 'raster', 'raters', 'starer', 'tarres', 'terras']\n",
      "['artiest', 'artiste', 'attires', 'iratest', 'ratites', 'striate', 'tastier']\n",
      "['ashed', 'deash', 'hades', 'heads', 'sadhe', 'shade']\n",
      "['aspen', 'napes', 'neaps', 'panes', 'peans', 'sneap', 'spean']\n",
      "['aspers', 'parses', 'passer', 'prases', 'repass', 'spares', 'sparse', 'spears']\n",
      "['aspirer', 'parries', 'praiser', 'rapiers', 'raspier', 'repairs']\n",
      "['ates', 'east', 'eats', 'etas', 'sate', 'seat', 'seta', 'teas']\n",
      "['bares', 'baser', 'bears', 'braes', 'saber', 'sabre']\n",
      "['canter', 'centra', 'nectar', 'recant', 'tanrec', 'trance']\n",
      "['canters', 'nectars', 'recants', 'scanter', 'tanrecs', 'trances']\n",
      "['capers', 'crapes', 'escarp', 'pacers', 'parsec', 'recaps', 'scrape', 'secpar', 'spacer']\n",
      "['caress', 'carses', 'crases', 'escars', 'scares', 'seracs']\n",
      "['caret', 'carte', 'cater', 'crate', 'react', 'recta', 'trace']\n",
      "['carets', 'cartes', 'caster', 'caters', 'crates', 'reacts', 'recast', 'traces']\n",
      "['carpels', 'clasper', 'parcels', 'placers', 'reclasp', 'scalper']\n",
      "['claroes', 'coalers', 'escolar', 'oracles', 'recoals', 'solacer']\n",
      "['corset', 'coster', 'escort', 'rectos', 'scoter', 'sector']\n",
      "['cruet', 'curet', 'cuter', 'eruct', 'recut', 'truce']\n",
      "['cruets', 'cruset', 'curets', 'eructs', 'rectus', 'recuts', 'truces']\n",
      "['dater', 'derat', 'rated', 'tared', 'trade', 'tread']\n",
      "['dearths', 'hardest', 'hardset', 'hatreds', 'threads', 'trashed']\n",
      "['deers', 'drees', 'redes', 'reeds', 'seder', 'sered']\n",
      "['deils', 'delis', 'idles', 'isled', 'sidle', 'slide']\n",
      "['deist', 'diets', 'dites', 'edits', 'sited', 'stied', 'tides']\n",
      "['deltas', 'desalt', 'lasted', 'salted', 'slated', 'staled']\n",
      "['deposit', 'dopiest', 'podites', 'posited', 'sopited', 'topside']\n",
      "['diols', 'idols', 'lidos', 'sloid', 'soldi', 'solid']\n",
      "['drapes', 'padres', 'parsed', 'rasped', 'spader', 'spared', 'spread']\n",
      "['earings', 'erasing', 'gainers', 'reagins', 'regains', 'reginas', 'searing', 'seringa']\n",
      "['easters', 'reseats', 'searest', 'seaters', 'teasers', 'tessera']\n",
      "['easting', 'eatings', 'ingates', 'ingesta', 'seating', 'teasing']\n",
      "['elastin', 'entails', 'nailset', 'salient', 'saltine', 'tenails']\n",
      "['emits', 'items', 'metis', 'mites', 'smite', 'stime', 'times']\n",
      "['empires', 'emprise', 'epimers', 'imprese', 'premies', 'premise', 'spireme']\n",
      "['enosis', 'eosins', 'essoin', 'noesis', 'noises', 'ossein', 'sonsie']\n",
      "['enters', 'nester', 'rentes', 'resent', 'tenser', 'ternes']\n",
      "['esprit', 'priest', 'ripest', 'sprite', 'stripe', 'tripes']\n",
      "['esprits', 'persist', 'priests', 'spriest', 'sprites', 'stirpes', 'stripes']\n",
      "['ester', 'reest', 'reset', 'steer', 'stere', 'terse', 'trees']\n",
      "['esters', 'reests', 'resets', 'serest', 'steers', 'steres']\n",
      "['estrange', 'grantees', 'greatens', 'negaters', 'reagents', 'sergeant']\n",
      "['estrin', 'inerts', 'insert', 'inters', 'niters', 'nitres', 'sinter', 'triens', 'trines']\n",
      "['estrous', 'oestrus', 'ousters', 'sourest', 'souters', 'stoures', 'tussore']\n",
      "['eviler', 'levier', 'liever', 'relive', 'revile', 'veiler']\n",
      "['hales', 'heals', 'leash', 'selah', 'shale', 'sheal']\n",
      "['hassel', 'hassle', 'lashes', 'selahs', 'shales', 'sheals']\n",
      "['hectors', 'rochets', 'rotches', 'tochers', 'torches', 'troches']\n",
      "['lapse', 'leaps', 'pales', 'peals', 'pleas', 'salep', 'sepal', 'spale']\n",
      "['lavers', 'ravels', 'salver', 'serval', 'slaver', 'velars', 'versal']\n",
      "['laves', 'salve', 'slave', 'vales', 'valse', 'veals']\n",
      "['leapt', 'lepta', 'palet', 'petal', 'plate', 'pleat']\n",
      "['least', 'setal', 'slate', 'stale', 'steal', 'stela', 'taels', 'tales', 'teals', 'tesla']\n",
      "['leasts', 'slates', 'stales', 'steals', 'tassel', 'teslas']\n",
      "['luster', 'lustre', 'result', 'rustle', 'sutler', 'ulster']\n",
      "['lusters', 'lustres', 'results', 'rustles', 'sutlers', 'ulsters']\n",
      "['mates', 'meats', 'satem', 'steam', 'tames', 'teams']\n",
      "['merits', 'mister', 'miters', 'mitres', 'remits', 'smiter', 'timers']\n",
      "['nestor', 'noters', 'stoner', 'tenors', 'tensor', 'toners', 'trones']\n",
      "['notes', 'onset', 'seton', 'steno', 'stone', 'tones']\n",
      "['opts', 'post', 'pots', 'spot', 'stop', 'tops']\n",
      "['painters', 'pantries', 'pertains', 'pinaster', 'pristane', 'repaints']\n",
      "['palest', 'palets', 'pastel', 'petals', 'plates', 'pleats', 'septal', 'staple']\n",
      "['palters', 'persalt', 'plaster', 'platers', 'psalter', 'stapler']\n",
      "['parties', 'pastier', 'piaster', 'piastre', 'pirates', 'traipse']\n",
      "['parts', 'prats', 'sprat', 'strap', 'tarps', 'traps']\n",
      "['paste', 'pates', 'peats', 'septa', 'spate', 'tapes', 'tepas']\n",
      "['paster', 'paters', 'prates', 'repast', 'tapers', 'trapes']\n",
      "['peers', 'peres', 'perse', 'prees', 'prese', 'speer', 'spree']\n",
      "['peris', 'piers', 'pries', 'prise', 'ripes', 'speir', 'spier', 'spire']\n",
      "['petrous', 'posture', 'pouters', 'proteus', 'spouter', 'troupes']\n",
      "['piles', 'plies', 'slipe', 'speil', 'spiel', 'spile']\n",
      "['realist', 'retails', 'saltier', 'saltire', 'slatier', 'tailers']\n",
      "['recepts', 'respect', 'scepter', 'sceptre', 'specter', 'spectre']\n",
      "['reigns', 'renigs', 'resign', 'sering', 'signer', 'singer']\n",
      "['reins', 'resin', 'rinse', 'risen', 'serin', 'siren']\n",
      "['resaw', 'sawer', 'sewar', 'sware', 'swear', 'wares', 'wears']\n",
      "['staw', 'swat', 'taws', 'twas', 'wast', 'wats']\n",
      "['stow', 'swot', 'tows', 'twos', 'wost', 'wots']\n"
     ]
    }
   ],
   "source": [
    "words = open(\"words.txt\")\n",
    "anagrams = {}\n",
    "\n",
    "for line in words:\n",
    "    newline = line.strip().replace(\" \",\"\")\n",
    "    letterlist = []\n",
    "    for letter in newline:\n",
    "        letterlist.append(letter)\n",
    "    letterlist.sort()\n",
    "    letterkey = tuple(letterlist)\n",
    "    if letterkey in anagrams:\n",
    "        anagrams[letterkey].append(newline)\n",
    "    else:\n",
    "        anagrams[letterkey] = []\n",
    "        anagrams[letterkey].append(newline)\n",
    "        \n",
    "for key in anagrams:\n",
    "    if len(anagrams[key]) >= 6:\n",
    "           print(anagrams[key])"
   ]
  },
  {
   "cell_type": "markdown",
   "metadata": {},
   "source": [
    "### NumPy Exercises\n",
    "\n",
    "For the following exercises, be sure to print the desired output. You will not receive credit for problems that do not print the desired output.\n",
    "\n",
    "Some of these exercises will require the use of functions in numpy that may not have been covered in class. Look up documentation on how to use them. I always recommend checking the official reference at https://numpy.org/doc/stable/reference/index.html "
   ]
  },
  {
   "cell_type": "code",
   "execution_count": 10,
   "metadata": {},
   "outputs": [],
   "source": [
    "import numpy as np\n",
    "np.random.seed(1)"
   ]
  },
  {
   "cell_type": "markdown",
   "metadata": {},
   "source": [
    "#### Exercise NP.1:\n",
    "\n",
    "Task: Create an array `b` of 10 random integers selected between 0-99\n",
    "\n",
    "Desired output: `[37 12 72  9 75  5 79 64 16  1]` of course yours might be different"
   ]
  },
  {
   "cell_type": "code",
   "execution_count": 11,
   "metadata": {},
   "outputs": [
    {
     "data": {
      "text/plain": [
       "array([37, 12, 72,  9, 75,  5, 79, 64, 16,  1])"
      ]
     },
     "execution_count": 11,
     "metadata": {},
     "output_type": "execute_result"
    }
   ],
   "source": [
    "b = np.random.randint(0, 100, 10)\n",
    "b"
   ]
  },
  {
   "cell_type": "markdown",
   "metadata": {},
   "source": [
    "#### NP.1b:\n",
    "\n",
    "Task: reverse the elements in `b`. Hint: Try slicing the array, but backwards\n",
    "\n",
    "Desired output: `[ 1 16 64 79  5 75  9 72 12 37]` yours will be different"
   ]
  },
  {
   "cell_type": "code",
   "execution_count": 12,
   "metadata": {},
   "outputs": [
    {
     "name": "stdout",
     "output_type": "stream",
     "text": [
      "[ 1 16 64 79  5 75  9 72 12]\n"
     ]
    }
   ],
   "source": [
    "print(b[10:0:-1])"
   ]
  },
  {
   "cell_type": "markdown",
   "metadata": {},
   "source": [
    "#### NP.2a:\n",
    "\n",
    "Task: Create an array `c` of 1000 random values selected from a normal distribution centered at 100 with sd = 15, rounded to 1 decimal place. Print only the first 10 values.\n",
    "\n",
    "Desired output: `[ 92.1  83.9 113.   65.5 126.2  88.6 104.8  96.3 121.9  69.1]` of course your values may be different"
   ]
  },
  {
   "cell_type": "code",
   "execution_count": 13,
   "metadata": {},
   "outputs": [
    {
     "data": {
      "text/plain": [
       "array([ 92.1,  83.9, 113. ,  65.5, 126.2,  88.6, 104.8,  96.3, 121.9,\n",
       "        69.1])"
      ]
     },
     "execution_count": 13,
     "metadata": {},
     "output_type": "execute_result"
    }
   ],
   "source": [
    "c = np.random.normal(100, 15, 1000)\n",
    "c = np.round(c, 1)\n",
    "c[ :10]"
   ]
  },
  {
   "cell_type": "markdown",
   "metadata": {},
   "source": [
    "#### NP.2b:\n",
    "\n",
    "Perform a Shapiro-Wilk test to see if the values in c come from a normal distribution. Report the p-value and appropriate conclusion.\n",
    "\n",
    "Look up `scipy.stats.shapiro` for usage and details.\n",
    "\n",
    "https://docs.scipy.org/doc/scipy/reference/generated/scipy.stats.shapiro.html"
   ]
  },
  {
   "cell_type": "code",
   "execution_count": 18,
   "metadata": {},
   "outputs": [
    {
     "data": {
      "text/plain": [
       "ShapiroResult(statistic=0.9977032542228699, pvalue=0.17940226197242737)"
      ]
     },
     "execution_count": 18,
     "metadata": {},
     "output_type": "execute_result"
    }
   ],
   "source": [
    "import scipy.stats\n",
    "from scipy.stats import shapiro\n",
    "scipy.stats.shapiro(c)"
   ]
  },
  {
   "cell_type": "markdown",
   "metadata": {},
   "source": [
    "the p-value is 0.18 which is higher than the alpha of 0.05 so we fail to reject the null hypothesis. we do not have enough sufficient evidence to say that the values do not come from a normal distribution."
   ]
  },
  {
   "cell_type": "markdown",
   "metadata": {},
   "source": [
    "#### NP.2c:\n",
    "\n",
    "Identify and print the values in `c` that are more than 3 standard deviations from the mean of `c`. Report the proportion of values that are more than 3 sd from the mean.\n",
    "\n",
    "Desired output: `[ 54.1 ... 148.3 ]`\n",
    "\n",
    "`0.32 of the values are beyond 3 sd from the mean.`"
   ]
  },
  {
   "cell_type": "code",
   "execution_count": 32,
   "metadata": {},
   "outputs": [
    {
     "name": "stdout",
     "output_type": "stream",
     "text": [
      "[145.5 159.4 149.8  54.2]\n",
      "0.004 of the values are beyond 3 sd from the mean.\n"
     ]
    }
   ],
   "source": [
    "mean = np.mean(c)\n",
    "std = np.std(c)\n",
    "print(c[(c > (mean + 3 * std)) | (c < (mean - 3 * std))])\n",
    "print('0.004 of the values are beyond 3 sd from the mean.')"
   ]
  },
  {
   "cell_type": "markdown",
   "metadata": {},
   "source": [
    "#### NP.3:\n",
    "\n",
    "Task: Make a 3x3 identity matrix called `I3`\n",
    "\n",
    "Desired output: \n",
    "\n",
    "~~~\n",
    "[[1. 0. 0.]\n",
    " [0. 1. 0.]\n",
    " [0. 0. 1.]]\n",
    "~~~"
   ]
  },
  {
   "cell_type": "code",
   "execution_count": 20,
   "metadata": {},
   "outputs": [
    {
     "data": {
      "text/plain": [
       "array([[1., 0., 0.],\n",
       "       [0., 1., 0.],\n",
       "       [0., 0., 1.]])"
      ]
     },
     "execution_count": 20,
     "metadata": {},
     "output_type": "execute_result"
    }
   ],
   "source": [
    "I3 = np.identity(3)\n",
    "I3"
   ]
  },
  {
   "cell_type": "markdown",
   "metadata": {},
   "source": [
    "#### NP.4a:\n",
    "\n",
    "Task: Make a 10x10 array of values 1 to 100. Call it X\n",
    "\n",
    "Desired output: \n",
    "\n",
    "~~~\n",
    "[[  1   2   3   4   5   6   7   8   9  10]\n",
    " [ 11  12  13  14  15  16  17  18  19  20]\n",
    " [ 21  22  23  24  25  26  27  28  29  30]\n",
    " [ 31  32  33  34  35  36  37  38  39  40]\n",
    " [ 41  42  43  44  45  46  47  48  49  50]\n",
    " [ 51  52  53  54  55  56  57  58  59  60]\n",
    " [ 61  62  63  64  65  66  67  68  69  70]\n",
    " [ 71  72  73  74  75  76  77  78  79  80]\n",
    " [ 81  82  83  84  85  86  87  88  89  90]\n",
    " [ 91  92  93  94  95  96  97  98  99 100]]\n",
    " ~~~"
   ]
  },
  {
   "cell_type": "code",
   "execution_count": 21,
   "metadata": {},
   "outputs": [
    {
     "data": {
      "text/plain": [
       "array([[  1,   2,   3,   4,   5,   6,   7,   8,   9,  10],\n",
       "       [ 11,  12,  13,  14,  15,  16,  17,  18,  19,  20],\n",
       "       [ 21,  22,  23,  24,  25,  26,  27,  28,  29,  30],\n",
       "       [ 31,  32,  33,  34,  35,  36,  37,  38,  39,  40],\n",
       "       [ 41,  42,  43,  44,  45,  46,  47,  48,  49,  50],\n",
       "       [ 51,  52,  53,  54,  55,  56,  57,  58,  59,  60],\n",
       "       [ 61,  62,  63,  64,  65,  66,  67,  68,  69,  70],\n",
       "       [ 71,  72,  73,  74,  75,  76,  77,  78,  79,  80],\n",
       "       [ 81,  82,  83,  84,  85,  86,  87,  88,  89,  90],\n",
       "       [ 91,  92,  93,  94,  95,  96,  97,  98,  99, 100]])"
      ]
     },
     "execution_count": 21,
     "metadata": {},
     "output_type": "execute_result"
    }
   ],
   "source": [
    "x = np.reshape(np.arange(1, 101), [10, 10])\n",
    "x"
   ]
  },
  {
   "cell_type": "markdown",
   "metadata": {},
   "source": [
    "#### NP.4b:\n",
    "\n",
    "Task: Make a copy of X, call it Y (1 line). Replace all values in Y that are not squares with 0 (1 line). see `numpy.isin()`\n",
    "\n",
    "Desired output: \n",
    "\n",
    "~~~\n",
    "[[  1   0   0   4   0   0   0   0   9   0]\n",
    " [  0   0   0   0   0  16   0   0   0   0]\n",
    " [  0   0   0   0  25   0   0   0   0   0]\n",
    "...\n",
    " [  0   0   0   0   0   0   0   0   0 100]]\n",
    " ~~~"
   ]
  },
  {
   "cell_type": "code",
   "execution_count": 22,
   "metadata": {},
   "outputs": [
    {
     "data": {
      "text/plain": [
       "array([[  1,   0,   0,   4,   0,   0,   0,   0,   9,   0],\n",
       "       [  0,   0,   0,   0,   0,  16,   0,   0,   0,   0],\n",
       "       [  0,   0,   0,   0,  25,   0,   0,   0,   0,   0],\n",
       "       [  0,   0,   0,   0,   0,  36,   0,   0,   0,   0],\n",
       "       [  0,   0,   0,   0,   0,   0,   0,   0,  49,   0],\n",
       "       [  0,   0,   0,   0,   0,   0,   0,   0,   0,   0],\n",
       "       [  0,   0,   0,  64,   0,   0,   0,   0,   0,   0],\n",
       "       [  0,   0,   0,   0,   0,   0,   0,   0,   0,   0],\n",
       "       [ 81,   0,   0,   0,   0,   0,   0,   0,   0,   0],\n",
       "       [  0,   0,   0,   0,   0,   0,   0,   0,   0, 100]])"
      ]
     },
     "execution_count": 22,
     "metadata": {},
     "output_type": "execute_result"
    }
   ],
   "source": [
    "y = x.copy()\n",
    "y[~np.isin(y, [1, 4, 9, 16, 25, 36, 49, 64, 81, 100])] = 0\n",
    "y"
   ]
  },
  {
   "cell_type": "markdown",
   "metadata": {},
   "source": [
    "#### NP.5:\n",
    "\n",
    "Task: Use `np.tile()` to tile a 2x2 diagonal matrix of integers to make a checkerboard pattern. Call the matrix `checkers`\n",
    "\n",
    "Desired output: \n",
    "\n",
    "~~~\n",
    "[[1 0 1 0 1 0 1 0]\n",
    " [0 1 0 1 0 1 0 1]\n",
    " ...\n",
    " [1 0 1 0 1 0 1 0]\n",
    " [0 1 0 1 0 1 0 1]]\n",
    " ~~~"
   ]
  },
  {
   "cell_type": "code",
   "execution_count": 23,
   "metadata": {},
   "outputs": [
    {
     "name": "stdout",
     "output_type": "stream",
     "text": [
      "[[1 0 1 0 1 0 1 0]\n",
      " [0 1 0 1 0 1 0 1]\n",
      " [1 0 1 0 1 0 1 0]\n",
      " [0 1 0 1 0 1 0 1]\n",
      " [1 0 1 0 1 0 1 0]\n",
      " [0 1 0 1 0 1 0 1]\n",
      " [1 0 1 0 1 0 1 0]\n",
      " [0 1 0 1 0 1 0 1]]\n"
     ]
    }
   ],
   "source": [
    "p = np.array([[1,0], [0,1]])\n",
    "print(np.tile(p, (4,4)))"
   ]
  },
  {
   "cell_type": "markdown",
   "metadata": {},
   "source": [
    "#### NP.6:\n",
    "\n",
    "Task: convert the values in `f_temp` from Farenheit to celsius. The conversion is subtract 32, then multiply by 5/9. Round to 1 decimal place.\n",
    "\n",
    "Desired output: \n",
    "\n",
    "~~~\n",
    "[[21.1 21.7 22.2 22.8 23.3 23.9]\n",
    " ...\n",
    " [34.4 35.  35.6 36.1 36.7 37.2]]\n",
    "~~~"
   ]
  },
  {
   "cell_type": "code",
   "execution_count": 24,
   "metadata": {},
   "outputs": [
    {
     "name": "stdout",
     "output_type": "stream",
     "text": [
      "[[21.1 21.7 22.2 22.8 23.3 23.9]\n",
      " [24.4 25.  25.6 26.1 26.7 27.2]\n",
      " [27.8 28.3 28.9 29.4 30.  30.6]\n",
      " [31.1 31.7 32.2 32.8 33.3 33.9]\n",
      " [34.4 35.  35.6 36.1 36.7 37.2]]\n"
     ]
    }
   ],
   "source": [
    "# do not modify\n",
    "f_temp  = np.arange(70,100).reshape((5,6))\n",
    "\n",
    "c_temp = np.round((f_temp - 32) * 5 / 9, 1)\n",
    "print(c_temp)"
   ]
  },
  {
   "cell_type": "markdown",
   "metadata": {},
   "source": [
    "#### NP.7:\n",
    "\n",
    "Task: Convert values in the matrix `x` into z-scores by column, call it matrix `z`. That is: each column should have a mean of 0 and std of 1. (subtract the column mean, and divide by the column std). (not required, but see if you can do this in one line)\n",
    "\n",
    "Print the column means and column std to show that they have been standardized.\n",
    "\n",
    "Desired output: \n",
    "\n",
    "~~~\n",
    "[[-1.09996745 -0.47901666  0.8816739 ]\n",
    " [ 0.9495002   1.18844641  0.11324252]\n",
    "...\n",
    " [-0.60705751 -1.08536687 -0.57430135]\n",
    " [-1.28156585 -0.81250928  1.52877401]]\n",
    " \n",
    " [ 6.66133815e-17  1.11022302e-16 -1.11022302e-16]\n",
    "[1. 1. 1.]\n",
    "~~~"
   ]
  },
  {
   "cell_type": "code",
   "execution_count": 25,
   "metadata": {},
   "outputs": [],
   "source": [
    "# do not modify\n",
    "np.random.seed(100)\n",
    "x = np.random.randint(100,size = 30).reshape(10,3)"
   ]
  },
  {
   "cell_type": "code",
   "execution_count": 26,
   "metadata": {},
   "outputs": [
    {
     "name": "stdout",
     "output_type": "stream",
     "text": [
      "[[-1.09996745 -0.47901666  0.8816739 ]\n",
      " [ 0.9495002   1.18844641  0.11324252]\n",
      " [-1.04808219  1.64320907  0.27501755]\n",
      " [ 1.23486912  0.40019114  0.84123014]\n",
      " [ 1.23486912 -0.78219177 -0.45297008]\n",
      " [-0.68488539 -0.75187426  0.5985676 ]\n",
      " [ 0.19716398 -0.72155675 -1.46406399]\n",
      " [ 1.10515598  1.40066898 -1.74717029]\n",
      " [-0.60705751 -1.08536687 -0.57430135]\n",
      " [-1.28156585 -0.81250928  1.52877401]]\n",
      "[ 4.44089210e-17  1.11022302e-16 -1.11022302e-16]\n",
      "[1. 1. 1.]\n"
     ]
    }
   ],
   "source": [
    "m = np.mean(x, axis = 0)\n",
    "s = np.std(x, axis = 0)\n",
    "z = (x-m)/s\n",
    "print(z)\n",
    "\n",
    "m2 = np.mean(z, axis = 0)\n",
    "print(m2)\n",
    "s2 = np.std(z, axis = 0)\n",
    "print(s2)"
   ]
  },
  {
   "cell_type": "markdown",
   "metadata": {},
   "source": [
    "#### NP.8:\n",
    "\n",
    "Task: Convert values in the matrix `x` into scaled values from 0 to 10. That is take each column and scale values linearly so that the largest value is 10, and the smallest value in the column is 0. Round results to 2 decimal places. Call the result `y`\n",
    "\n",
    "(Not required, but see if you can do the calculations in one line.)\n",
    "\n",
    "Desired output: \n",
    "\n",
    "~~~\n",
    "[[ 0.72  2.22  8.02]\n",
    " [ 8.87  8.33  5.68]\n",
    "...\n",
    " [ 2.68  0.    3.58]\n",
    " [ 0.    1.   10.  ]]\n",
    " ~~~"
   ]
  },
  {
   "cell_type": "code",
   "execution_count": 27,
   "metadata": {},
   "outputs": [],
   "source": [
    "# do not modify\n",
    "np.random.seed(100)\n",
    "x = np.random.randint(100,size = 30).reshape(10,3)"
   ]
  },
  {
   "cell_type": "code",
   "execution_count": 28,
   "metadata": {},
   "outputs": [
    {
     "name": "stdout",
     "output_type": "stream",
     "text": [
      "[[ 0.72  2.22  8.02]\n",
      " [ 8.87  8.33  5.68]\n",
      " [ 0.93 10.    6.17]\n",
      " [10.    5.44  7.9 ]\n",
      " [10.    1.11  3.95]\n",
      " [ 2.37  1.22  7.16]\n",
      " [ 5.88  1.33  0.86]\n",
      " [ 9.48  9.11  0.  ]\n",
      " [ 2.68  0.    3.58]\n",
      " [ 0.    1.   10.  ]]\n"
     ]
    }
   ],
   "source": [
    "min = np.min(x, axis = 0)\n",
    "max = np.max(x, axis = 0)\n",
    "\n",
    "y = np.round(((x - min)/(max - min)) * 10, 2)\n",
    "print(y)"
   ]
  },
  {
   "cell_type": "markdown",
   "metadata": {},
   "source": [
    "#### NP.9:\n",
    "\n",
    "Task: Replace all NaN values in the matrix `x` with 0.\n",
    "\n",
    "Desired output: \n",
    "\n",
    "~~~\n",
    "[[ 8. 24. 67.]\n",
    " [87. 79.  0.]\n",
    " [10.  0. 52.]\n",
    " [ 0. 53. 66.]]\n",
    "~~~"
   ]
  },
  {
   "cell_type": "code",
   "execution_count": 29,
   "metadata": {},
   "outputs": [],
   "source": [
    "# do not modify\n",
    "np.random.seed(100)\n",
    "x = np.random.randint(100,size = 12).reshape(4,3).astype('float')\n",
    "row = np.array([1, 2, 3])\n",
    "col = np.array([2, 1, 0])\n",
    "x[row, col] = np.nan"
   ]
  },
  {
   "cell_type": "code",
   "execution_count": 30,
   "metadata": {},
   "outputs": [
    {
     "name": "stdout",
     "output_type": "stream",
     "text": [
      "[[ 8. 24. 67.]\n",
      " [87. 79.  0.]\n",
      " [10.  0. 52.]\n",
      " [ 0. 53. 66.]]\n"
     ]
    }
   ],
   "source": [
    "x[np.isnan(x)] = 0\n",
    "print(x)"
   ]
  },
  {
   "cell_type": "code",
   "execution_count": null,
   "metadata": {},
   "outputs": [],
   "source": []
  }
 ],
 "metadata": {
  "kernelspec": {
   "display_name": "Python 3 (ipykernel)",
   "language": "python",
   "name": "python3"
  },
  "language_info": {
   "codemirror_mode": {
    "name": "ipython",
    "version": 3
   },
   "file_extension": ".py",
   "mimetype": "text/x-python",
   "name": "python",
   "nbconvert_exporter": "python",
   "pygments_lexer": "ipython3",
   "version": "3.9.12"
  }
 },
 "nbformat": 4,
 "nbformat_minor": 4
}
