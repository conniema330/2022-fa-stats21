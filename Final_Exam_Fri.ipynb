{
 "cells": [
  {
   "cell_type": "markdown",
   "id": "diagnostic-paint",
   "metadata": {},
   "source": [
    "# Stats 21 Final Exam - Fri Dec 9 2022"
   ]
  },
  {
   "cell_type": "markdown",
   "id": "australian-empty",
   "metadata": {},
   "source": [
    "### Academic Integrity\n",
    "\n",
    "This is a final exam. You are not allowed to communicate with other students during the exam. No collaboration allowed.\n",
    "\n",
    "Sharing any portion of this exam, even after the course ends, is a violation of the UCLA code of conduct.\n",
    "\n",
    "If you open this file on Fri Dec 9 2022, sharing this exam with students who are taking the exam at another time is a violation of the UCLA code of conduct. If you are taking the exam on a day other than Dec 9 2022, obtaining this exam is a violation of the UCLA code of conduct.\n",
    "\n",
    "If you are not enrolled in Stats 21 during Fall 2022, using this file to study for Stats 21 is a violation of the UCLA code of conduct.\n",
    "\n",
    "To acknowledge that you have read this, type your name in the following markdown box."
   ]
  },
  {
   "cell_type": "markdown",
   "id": "stone-twins",
   "metadata": {},
   "source": [
    "I have read the above statements. Your name: Connie Ma"
   ]
  },
  {
   "cell_type": "markdown",
   "id": "signal-clear",
   "metadata": {},
   "source": [
    "# Part 0 - Import Data"
   ]
  },
  {
   "cell_type": "markdown",
   "id": "64427412-a39b-433d-aab6-c80639246612",
   "metadata": {},
   "source": [
    "You will work with data from NHANES - National Health and Nutrition Examination Survey.\n",
    "\n",
    "We merge two tables from NHANES. \n",
    "\n",
    "1) The Demographic information table (DEMO_I) which contains information about the patients' sexes and ages.\n",
    "2) The Body measures table (BMX_I) which contains information about the height, weight, and other measures.\n",
    "\n",
    "There are many variables. I'll try to point out \n",
    "\n",
    "Data Dictionaries\n",
    "\n",
    "https://wwwn.cdc.gov/Nchs/Nhanes/2017-2018/DEMO_J.htm\n",
    "\n",
    "https://wwwn.cdc.gov/Nchs/Nhanes/2017-2018/BMX_J.htm"
   ]
  },
  {
   "cell_type": "code",
   "execution_count": 1,
   "id": "eb05020d-f33f-421e-85d3-840337b20272",
   "metadata": {},
   "outputs": [],
   "source": [
    "import pandas as pd\n",
    "import numpy as np\n",
    "import matplotlib.pyplot as plt"
   ]
  },
  {
   "cell_type": "code",
   "execution_count": 2,
   "id": "dcd16575-1ece-4d7b-a0c1-5a92e55a1137",
   "metadata": {},
   "outputs": [],
   "source": [
    "bmx = pd.read_sas('BMX_J.XPT')"
   ]
  },
  {
   "cell_type": "code",
   "execution_count": 3,
   "id": "c12a8e99-fa8d-4d76-af5e-a4b811b695d8",
   "metadata": {},
   "outputs": [],
   "source": [
    "demo = pd.read_sas('DEMO_J.XPT')"
   ]
  },
  {
   "cell_type": "code",
   "execution_count": 4,
   "id": "4e8b07b6-ca3b-4d12-821e-21549e4add10",
   "metadata": {},
   "outputs": [],
   "source": [
    "merged = bmx.merge(right = demo, on = 'SEQN')"
   ]
  },
  {
   "cell_type": "code",
   "execution_count": 5,
   "id": "455ba67f-b858-4578-8613-396c09296570",
   "metadata": {},
   "outputs": [
    {
     "data": {
      "text/plain": [
       "(8704, 66)"
      ]
     },
     "execution_count": 5,
     "metadata": {},
     "output_type": "execute_result"
    }
   ],
   "source": [
    "merged.shape"
   ]
  },
  {
   "cell_type": "code",
   "execution_count": 6,
   "id": "bf23ad8a-4208-4581-ace7-a9640dfb1005",
   "metadata": {},
   "outputs": [
    {
     "data": {
      "text/plain": [
       "Index(['SEQN', 'BMDSTATS', 'BMXWT', 'BMIWT', 'BMXRECUM', 'BMIRECUM', 'BMXHEAD',\n",
       "       'BMIHEAD', 'BMXHT', 'BMIHT', 'BMXBMI', 'BMXLEG', 'BMILEG', 'BMXARML',\n",
       "       'BMIARML', 'BMXARMC', 'BMIARMC', 'BMXWAIST', 'BMIWAIST', 'BMXHIP',\n",
       "       'BMIHIP', 'SDDSRVYR', 'RIDSTATR', 'RIAGENDR', 'RIDAGEYR', 'RIDAGEMN',\n",
       "       'RIDRETH1', 'RIDRETH3', 'RIDEXMON', 'RIDEXAGM', 'DMQMILIZ', 'DMQADFC',\n",
       "       'DMDBORN4', 'DMDCITZN', 'DMDYRSUS', 'DMDEDUC3', 'DMDEDUC2', 'DMDMARTL',\n",
       "       'RIDEXPRG', 'SIALANG', 'SIAPROXY', 'SIAINTRP', 'FIALANG', 'FIAPROXY',\n",
       "       'FIAINTRP', 'MIALANG', 'MIAPROXY', 'MIAINTRP', 'AIALANGA', 'DMDHHSIZ',\n",
       "       'DMDFMSIZ', 'DMDHHSZA', 'DMDHHSZB', 'DMDHHSZE', 'DMDHRGND', 'DMDHRAGZ',\n",
       "       'DMDHREDZ', 'DMDHRMAZ', 'DMDHSEDZ', 'WTINT2YR', 'WTMEC2YR', 'SDMVPSU',\n",
       "       'SDMVSTRA', 'INDHHIN2', 'INDFMIN2', 'INDFMPIR'],\n",
       "      dtype='object')"
      ]
     },
     "execution_count": 6,
     "metadata": {},
     "output_type": "execute_result"
    }
   ],
   "source": [
    "merged.columns"
   ]
  },
  {
   "cell_type": "markdown",
   "id": "3861e71e-f6bd-48a0-9bde-981b50140343",
   "metadata": {},
   "source": [
    "## Part 1 A: Do baby boys weigh more than baby girls on average?"
   ]
  },
  {
   "cell_type": "markdown",
   "id": "c3032284-8f5d-4c53-a9e9-1508bf245d93",
   "metadata": {},
   "source": [
    "The variable for the age in months is `RIDAGEMN`. \n",
    "\n",
    "https://wwwn.cdc.gov/Nchs/Nhanes/2017-2018/DEMO_J.htm#RIDAGEMN\n",
    "\n",
    "The variable for gender is `RIAGENDR`\n",
    "\n",
    "https://wwwn.cdc.gov/Nchs/Nhanes/2017-2018/DEMO_J.htm#RIAGENDR\n",
    "\n",
    "The variable for the weight is `BMXWT`\n",
    "\n",
    "https://wwwn.cdc.gov/Nchs/Nhanes/2017-2018/BMX_J.htm#BMXWT"
   ]
  },
  {
   "cell_type": "markdown",
   "id": "edc2708a-8007-4b21-85b3-87efa08c5824",
   "metadata": {},
   "source": [
    "- [5 pts] Calculate and display the mean weight of baby boys for each month, from month 0 to 12. You’ll produce 13 values, one for each month."
   ]
  },
  {
   "cell_type": "code",
   "execution_count": 205,
   "id": "ed5fe266-e6f1-4ea1-8e77-95ea81d3168d",
   "metadata": {},
   "outputs": [
    {
     "data": {
      "text/plain": [
       "RIAGENDR  RIDAGEMN    \n",
       "1.0       5.397605e-79     4.689474\n",
       "          1.000000e+00     5.300000\n",
       "          2.000000e+00     6.514286\n",
       "          3.000000e+00     6.853333\n",
       "          4.000000e+00     7.220000\n",
       "          5.000000e+00     8.308333\n",
       "          6.000000e+00     8.754545\n",
       "          7.000000e+00     9.023529\n",
       "          8.000000e+00     9.612500\n",
       "          9.000000e+00     9.453846\n",
       "          1.000000e+01     9.225000\n",
       "          1.100000e+01    10.011765\n",
       "          1.200000e+01    10.560000\n",
       "Name: BMXWT, dtype: float64"
      ]
     },
     "execution_count": 205,
     "metadata": {},
     "output_type": "execute_result"
    }
   ],
   "source": [
    "age = merged.RIDAGEMN[merged.RIDAGEMN <=12]\n",
    "boys = merged.RIAGENDR[merged.RIAGENDR == 1]\n",
    "\n",
    "boysmw = merged['BMXWT'].groupby([boys, age]).mean()\n",
    "boysmw"
   ]
  },
  {
   "cell_type": "markdown",
   "id": "b5cc87f0-045c-4e2c-8538-b99ffa9eeb1f",
   "metadata": {},
   "source": [
    "- [5 pts] Calculate and display the mean weight of baby girls for each month, from month 0 to 12."
   ]
  },
  {
   "cell_type": "code",
   "execution_count": 174,
   "id": "8a790af7-8037-41a8-a50b-57dd18b64cd1",
   "metadata": {},
   "outputs": [
    {
     "data": {
      "text/plain": [
       "RIAGENDR  RIDAGEMN    \n",
       "2.0       5.397605e-79     4.440000\n",
       "          1.000000e+00     4.976471\n",
       "          2.000000e+00     5.790909\n",
       "          3.000000e+00     6.626667\n",
       "          4.000000e+00     6.731818\n",
       "          5.000000e+00     7.544444\n",
       "          6.000000e+00     8.212500\n",
       "          7.000000e+00     8.242857\n",
       "          8.000000e+00     8.645455\n",
       "          9.000000e+00     9.500000\n",
       "          1.000000e+01     8.971429\n",
       "          1.100000e+01     8.977778\n",
       "          1.200000e+01    10.180000\n",
       "Name: BMXWT, dtype: float64"
      ]
     },
     "execution_count": 174,
     "metadata": {},
     "output_type": "execute_result"
    }
   ],
   "source": [
    "age = merged.RIDAGEMN[merged.RIDAGEMN <=12]\n",
    "girls = merged.RIAGENDR[merged.RIAGENDR == 2]\n",
    "\n",
    "girlsmw = merged['BMXWT'].groupby([girls, age]).mean()\n",
    "girlsmw"
   ]
  },
  {
   "cell_type": "markdown",
   "id": "b41e137e-7bd5-432b-a568-f64e39907ff8",
   "metadata": {},
   "source": [
    "- [5 pts] Calculate and display the difference between the mean weights of boys and girls for each month"
   ]
  },
  {
   "cell_type": "code",
   "execution_count": 189,
   "id": "f1aa2d45-d524-4de3-81f0-8442700730b2",
   "metadata": {},
   "outputs": [
    {
     "data": {
      "text/plain": [
       "0     0.249474\n",
       "1     0.323529\n",
       "2     0.723377\n",
       "3     0.226667\n",
       "4     0.488182\n",
       "5     0.763889\n",
       "6     0.542045\n",
       "7     0.780672\n",
       "8     0.967045\n",
       "9    -0.046154\n",
       "10    0.253571\n",
       "11    1.033987\n",
       "12    0.380000\n",
       "dtype: float64"
      ]
     },
     "execution_count": 189,
     "metadata": {},
     "output_type": "execute_result"
    }
   ],
   "source": [
    "difference = pd.Series(boysmw.values - girlsmw.values)\n",
    "difference"
   ]
  },
  {
   "cell_type": "markdown",
   "id": "0a18cb76-e6be-41c3-ab82-f5ec41b80ec5",
   "metadata": {},
   "source": [
    "\n",
    "- [5 pts] Make a line plot showing two lines: one for boys' mean weights months 0-12, and one for girls' mean weights 0-12 (in a different color). The month will go on the x-axis, and the mean weight will go on the y-axis.\n"
   ]
  },
  {
   "cell_type": "code",
   "execution_count": 210,
   "id": "944503ff-e181-441c-935d-8bc4a274c5df",
   "metadata": {},
   "outputs": [
    {
     "data": {
      "image/png": "[encoded data removed]",
      "text/plain": [
       "<Figure size 432x288 with 1 Axes>"
      ]
     },
     "metadata": {
      "needs_background": "light"
     },
     "output_type": "display_data"
    }
   ],
   "source": [
    "b = boysmw.values\n",
    "g = girlsmw.values\n",
    "\n",
    "plt.plot(b, 'blue')\n",
    "plt.plot(g, 'pink')\n",
    "plt.xlim(0, 12)\n",
    "plt.title('boys and girls mean weights for 0-12 months')\n",
    "plt.xlabel('months')\n",
    "plt.ylabel('weight')\n",
    "plt.show()"
   ]
  },
  {
   "cell_type": "markdown",
   "id": "5769fa10-dad0-41fc-a5b7-9d26b84c7853",
   "metadata": {},
   "source": [
    "- [5 pts] Comment on what you think the data says about the question: Do baby boys weigh more than baby girls on average? Include any additional analysis you deem appropriate."
   ]
  },
  {
   "cell_type": "markdown",
   "id": "5442dbf1-dd95-4d46-8e3a-dc18be8fa1b2",
   "metadata": {},
   "source": [
    "Overall, yes baby boys seem to weigh more than baby girls on average because in the plot the blue line representing boys' mean weights is generally consistently above the pink line representing girls' mean weights."
   ]
  },
  {
   "cell_type": "markdown",
   "id": "naval-publisher",
   "metadata": {},
   "source": [
    "## Part 1 B: What is the relationship between height, leg length, and arm length? Does this relationship change with age?"
   ]
  },
  {
   "cell_type": "markdown",
   "id": "constant-mattress",
   "metadata": {},
   "source": [
    "The variable for age in years is `RIDAGEYR`\n",
    "\n",
    "- https://wwwn.cdc.gov/Nchs/Nhanes/2017-2018/DEMO_J.htm#RIDAGEYR\n",
    "\n",
    "The variables for height, leg length, and arm length are: `BMXHT`, `BMXLEG`, `BMXARML`\n",
    "\n",
    "- https://wwwn.cdc.gov/Nchs/Nhanes/2017-2018/BMX_J.htm#BMXHT\n",
    "- https://wwwn.cdc.gov/Nchs/Nhanes/2017-2018/BMX_J.htm#BMXLEG\n",
    "- https://wwwn.cdc.gov/Nchs/Nhanes/2017-2018/BMX_J.htm#BMXARML"
   ]
  },
  {
   "cell_type": "markdown",
   "id": "ordered-african",
   "metadata": {},
   "source": [
    "- [5 pts] Filter the data to all adults aged 20 and up, who have all three measurements of height, upper leg length, and upper arm length. Report the number of rows."
   ]
  },
  {
   "cell_type": "code",
   "execution_count": 222,
   "id": "progressive-reliance",
   "metadata": {},
   "outputs": [
    {
     "data": {
      "text/html": [
       "<div>\n",
       "<style scoped>\n",
       "    .dataframe tbody tr th:only-of-type {\n",
       "        vertical-align: middle;\n",
       "    }\n",
       "\n",
       "    .dataframe tbody tr th {\n",
       "        vertical-align: top;\n",
       "    }\n",
       "\n",
       "    .dataframe thead th {\n",
       "        text-align: right;\n",
       "    }\n",
       "</style>\n",
       "<table border=\"1\" class=\"dataframe\">\n",
       "  <thead>\n",
       "    <tr style=\"text-align: right;\">\n",
       "      <th></th>\n",
       "      <th>SEQN</th>\n",
       "      <th>BMDSTATS</th>\n",
       "      <th>BMXWT</th>\n",
       "      <th>BMIWT</th>\n",
       "      <th>BMXRECUM</th>\n",
       "      <th>BMIRECUM</th>\n",
       "      <th>BMXHEAD</th>\n",
       "      <th>BMIHEAD</th>\n",
       "      <th>BMXHT</th>\n",
       "      <th>BMIHT</th>\n",
       "      <th>...</th>\n",
       "      <th>DMDHREDZ</th>\n",
       "      <th>DMDHRMAZ</th>\n",
       "      <th>DMDHSEDZ</th>\n",
       "      <th>WTINT2YR</th>\n",
       "      <th>WTMEC2YR</th>\n",
       "      <th>SDMVPSU</th>\n",
       "      <th>SDMVSTRA</th>\n",
       "      <th>INDHHIN2</th>\n",
       "      <th>INDFMIN2</th>\n",
       "      <th>INDFMPIR</th>\n",
       "    </tr>\n",
       "  </thead>\n",
       "  <tbody>\n",
       "    <tr>\n",
       "      <th>2</th>\n",
       "      <td>93705.0</td>\n",
       "      <td>1.0</td>\n",
       "      <td>79.5</td>\n",
       "      <td>NaN</td>\n",
       "      <td>NaN</td>\n",
       "      <td>NaN</td>\n",
       "      <td>NaN</td>\n",
       "      <td>NaN</td>\n",
       "      <td>158.3</td>\n",
       "      <td>NaN</td>\n",
       "      <td>...</td>\n",
       "      <td>1.0</td>\n",
       "      <td>2.0</td>\n",
       "      <td>NaN</td>\n",
       "      <td>8614.571172</td>\n",
       "      <td>8338.419786</td>\n",
       "      <td>2.0</td>\n",
       "      <td>145.0</td>\n",
       "      <td>3.0</td>\n",
       "      <td>3.0</td>\n",
       "      <td>0.82</td>\n",
       "    </tr>\n",
       "    <tr>\n",
       "      <th>5</th>\n",
       "      <td>93708.0</td>\n",
       "      <td>1.0</td>\n",
       "      <td>53.5</td>\n",
       "      <td>NaN</td>\n",
       "      <td>NaN</td>\n",
       "      <td>NaN</td>\n",
       "      <td>NaN</td>\n",
       "      <td>NaN</td>\n",
       "      <td>150.2</td>\n",
       "      <td>NaN</td>\n",
       "      <td>...</td>\n",
       "      <td>1.0</td>\n",
       "      <td>1.0</td>\n",
       "      <td>1.0</td>\n",
       "      <td>13329.450589</td>\n",
       "      <td>14372.488765</td>\n",
       "      <td>2.0</td>\n",
       "      <td>138.0</td>\n",
       "      <td>6.0</td>\n",
       "      <td>6.0</td>\n",
       "      <td>1.63</td>\n",
       "    </tr>\n",
       "    <tr>\n",
       "      <th>6</th>\n",
       "      <td>93709.0</td>\n",
       "      <td>1.0</td>\n",
       "      <td>88.8</td>\n",
       "      <td>NaN</td>\n",
       "      <td>NaN</td>\n",
       "      <td>NaN</td>\n",
       "      <td>NaN</td>\n",
       "      <td>NaN</td>\n",
       "      <td>151.1</td>\n",
       "      <td>NaN</td>\n",
       "      <td>...</td>\n",
       "      <td>2.0</td>\n",
       "      <td>2.0</td>\n",
       "      <td>NaN</td>\n",
       "      <td>12043.388271</td>\n",
       "      <td>12277.556662</td>\n",
       "      <td>1.0</td>\n",
       "      <td>136.0</td>\n",
       "      <td>2.0</td>\n",
       "      <td>2.0</td>\n",
       "      <td>0.41</td>\n",
       "    </tr>\n",
       "    <tr>\n",
       "      <th>8</th>\n",
       "      <td>93711.0</td>\n",
       "      <td>1.0</td>\n",
       "      <td>62.1</td>\n",
       "      <td>NaN</td>\n",
       "      <td>NaN</td>\n",
       "      <td>NaN</td>\n",
       "      <td>NaN</td>\n",
       "      <td>NaN</td>\n",
       "      <td>170.6</td>\n",
       "      <td>NaN</td>\n",
       "      <td>...</td>\n",
       "      <td>3.0</td>\n",
       "      <td>1.0</td>\n",
       "      <td>3.0</td>\n",
       "      <td>11178.260106</td>\n",
       "      <td>12390.919724</td>\n",
       "      <td>2.0</td>\n",
       "      <td>134.0</td>\n",
       "      <td>15.0</td>\n",
       "      <td>15.0</td>\n",
       "      <td>5.00</td>\n",
       "    </tr>\n",
       "    <tr>\n",
       "      <th>10</th>\n",
       "      <td>93713.0</td>\n",
       "      <td>1.0</td>\n",
       "      <td>74.9</td>\n",
       "      <td>NaN</td>\n",
       "      <td>NaN</td>\n",
       "      <td>NaN</td>\n",
       "      <td>NaN</td>\n",
       "      <td>NaN</td>\n",
       "      <td>178.6</td>\n",
       "      <td>NaN</td>\n",
       "      <td>...</td>\n",
       "      <td>2.0</td>\n",
       "      <td>2.0</td>\n",
       "      <td>NaN</td>\n",
       "      <td>174806.575152</td>\n",
       "      <td>166841.660681</td>\n",
       "      <td>1.0</td>\n",
       "      <td>140.0</td>\n",
       "      <td>6.0</td>\n",
       "      <td>6.0</td>\n",
       "      <td>2.65</td>\n",
       "    </tr>\n",
       "    <tr>\n",
       "      <th>...</th>\n",
       "      <td>...</td>\n",
       "      <td>...</td>\n",
       "      <td>...</td>\n",
       "      <td>...</td>\n",
       "      <td>...</td>\n",
       "      <td>...</td>\n",
       "      <td>...</td>\n",
       "      <td>...</td>\n",
       "      <td>...</td>\n",
       "      <td>...</td>\n",
       "      <td>...</td>\n",
       "      <td>...</td>\n",
       "      <td>...</td>\n",
       "      <td>...</td>\n",
       "      <td>...</td>\n",
       "      <td>...</td>\n",
       "      <td>...</td>\n",
       "      <td>...</td>\n",
       "      <td>...</td>\n",
       "      <td>...</td>\n",
       "      <td>...</td>\n",
       "    </tr>\n",
       "    <tr>\n",
       "      <th>8697</th>\n",
       "      <td>102949.0</td>\n",
       "      <td>1.0</td>\n",
       "      <td>76.9</td>\n",
       "      <td>NaN</td>\n",
       "      <td>NaN</td>\n",
       "      <td>NaN</td>\n",
       "      <td>NaN</td>\n",
       "      <td>NaN</td>\n",
       "      <td>180.1</td>\n",
       "      <td>NaN</td>\n",
       "      <td>...</td>\n",
       "      <td>2.0</td>\n",
       "      <td>1.0</td>\n",
       "      <td>NaN</td>\n",
       "      <td>29334.650205</td>\n",
       "      <td>30287.188731</td>\n",
       "      <td>2.0</td>\n",
       "      <td>139.0</td>\n",
       "      <td>6.0</td>\n",
       "      <td>6.0</td>\n",
       "      <td>1.01</td>\n",
       "    </tr>\n",
       "    <tr>\n",
       "      <th>8699</th>\n",
       "      <td>102952.0</td>\n",
       "      <td>1.0</td>\n",
       "      <td>49.0</td>\n",
       "      <td>NaN</td>\n",
       "      <td>NaN</td>\n",
       "      <td>NaN</td>\n",
       "      <td>NaN</td>\n",
       "      <td>NaN</td>\n",
       "      <td>156.5</td>\n",
       "      <td>NaN</td>\n",
       "      <td>...</td>\n",
       "      <td>2.0</td>\n",
       "      <td>1.0</td>\n",
       "      <td>1.0</td>\n",
       "      <td>16896.276203</td>\n",
       "      <td>18338.711104</td>\n",
       "      <td>2.0</td>\n",
       "      <td>138.0</td>\n",
       "      <td>4.0</td>\n",
       "      <td>4.0</td>\n",
       "      <td>0.95</td>\n",
       "    </tr>\n",
       "    <tr>\n",
       "      <th>8700</th>\n",
       "      <td>102953.0</td>\n",
       "      <td>1.0</td>\n",
       "      <td>97.4</td>\n",
       "      <td>NaN</td>\n",
       "      <td>NaN</td>\n",
       "      <td>NaN</td>\n",
       "      <td>NaN</td>\n",
       "      <td>NaN</td>\n",
       "      <td>164.9</td>\n",
       "      <td>NaN</td>\n",
       "      <td>...</td>\n",
       "      <td>2.0</td>\n",
       "      <td>2.0</td>\n",
       "      <td>NaN</td>\n",
       "      <td>61630.380013</td>\n",
       "      <td>63661.951573</td>\n",
       "      <td>2.0</td>\n",
       "      <td>137.0</td>\n",
       "      <td>12.0</td>\n",
       "      <td>12.0</td>\n",
       "      <td>NaN</td>\n",
       "    </tr>\n",
       "    <tr>\n",
       "      <th>8701</th>\n",
       "      <td>102954.0</td>\n",
       "      <td>1.0</td>\n",
       "      <td>69.1</td>\n",
       "      <td>NaN</td>\n",
       "      <td>NaN</td>\n",
       "      <td>NaN</td>\n",
       "      <td>NaN</td>\n",
       "      <td>NaN</td>\n",
       "      <td>162.6</td>\n",
       "      <td>NaN</td>\n",
       "      <td>...</td>\n",
       "      <td>2.0</td>\n",
       "      <td>2.0</td>\n",
       "      <td>NaN</td>\n",
       "      <td>17160.895269</td>\n",
       "      <td>17694.783346</td>\n",
       "      <td>1.0</td>\n",
       "      <td>144.0</td>\n",
       "      <td>10.0</td>\n",
       "      <td>10.0</td>\n",
       "      <td>1.18</td>\n",
       "    </tr>\n",
       "    <tr>\n",
       "      <th>8703</th>\n",
       "      <td>102956.0</td>\n",
       "      <td>1.0</td>\n",
       "      <td>111.5</td>\n",
       "      <td>NaN</td>\n",
       "      <td>NaN</td>\n",
       "      <td>NaN</td>\n",
       "      <td>NaN</td>\n",
       "      <td>NaN</td>\n",
       "      <td>175.8</td>\n",
       "      <td>NaN</td>\n",
       "      <td>...</td>\n",
       "      <td>2.0</td>\n",
       "      <td>2.0</td>\n",
       "      <td>NaN</td>\n",
       "      <td>38645.740291</td>\n",
       "      <td>39426.299948</td>\n",
       "      <td>1.0</td>\n",
       "      <td>142.0</td>\n",
       "      <td>7.0</td>\n",
       "      <td>7.0</td>\n",
       "      <td>1.56</td>\n",
       "    </tr>\n",
       "  </tbody>\n",
       "</table>\n",
       "<p>4903 rows × 66 columns</p>\n",
       "</div>"
      ],
      "text/plain": [
       "          SEQN  BMDSTATS  BMXWT  BMIWT  BMXRECUM  BMIRECUM  BMXHEAD  BMIHEAD  \\\n",
       "2      93705.0       1.0   79.5    NaN       NaN       NaN      NaN      NaN   \n",
       "5      93708.0       1.0   53.5    NaN       NaN       NaN      NaN      NaN   \n",
       "6      93709.0       1.0   88.8    NaN       NaN       NaN      NaN      NaN   \n",
       "8      93711.0       1.0   62.1    NaN       NaN       NaN      NaN      NaN   \n",
       "10     93713.0       1.0   74.9    NaN       NaN       NaN      NaN      NaN   \n",
       "...        ...       ...    ...    ...       ...       ...      ...      ...   \n",
       "8697  102949.0       1.0   76.9    NaN       NaN       NaN      NaN      NaN   \n",
       "8699  102952.0       1.0   49.0    NaN       NaN       NaN      NaN      NaN   \n",
       "8700  102953.0       1.0   97.4    NaN       NaN       NaN      NaN      NaN   \n",
       "8701  102954.0       1.0   69.1    NaN       NaN       NaN      NaN      NaN   \n",
       "8703  102956.0       1.0  111.5    NaN       NaN       NaN      NaN      NaN   \n",
       "\n",
       "      BMXHT  BMIHT  ...  DMDHREDZ  DMDHRMAZ  DMDHSEDZ       WTINT2YR  \\\n",
       "2     158.3    NaN  ...       1.0       2.0       NaN    8614.571172   \n",
       "5     150.2    NaN  ...       1.0       1.0       1.0   13329.450589   \n",
       "6     151.1    NaN  ...       2.0       2.0       NaN   12043.388271   \n",
       "8     170.6    NaN  ...       3.0       1.0       3.0   11178.260106   \n",
       "10    178.6    NaN  ...       2.0       2.0       NaN  174806.575152   \n",
       "...     ...    ...  ...       ...       ...       ...            ...   \n",
       "8697  180.1    NaN  ...       2.0       1.0       NaN   29334.650205   \n",
       "8699  156.5    NaN  ...       2.0       1.0       1.0   16896.276203   \n",
       "8700  164.9    NaN  ...       2.0       2.0       NaN   61630.380013   \n",
       "8701  162.6    NaN  ...       2.0       2.0       NaN   17160.895269   \n",
       "8703  175.8    NaN  ...       2.0       2.0       NaN   38645.740291   \n",
       "\n",
       "           WTMEC2YR  SDMVPSU  SDMVSTRA  INDHHIN2  INDFMIN2  INDFMPIR  \n",
       "2       8338.419786      2.0     145.0       3.0       3.0      0.82  \n",
       "5      14372.488765      2.0     138.0       6.0       6.0      1.63  \n",
       "6      12277.556662      1.0     136.0       2.0       2.0      0.41  \n",
       "8      12390.919724      2.0     134.0      15.0      15.0      5.00  \n",
       "10    166841.660681      1.0     140.0       6.0       6.0      2.65  \n",
       "...             ...      ...       ...       ...       ...       ...  \n",
       "8697   30287.188731      2.0     139.0       6.0       6.0      1.01  \n",
       "8699   18338.711104      2.0     138.0       4.0       4.0      0.95  \n",
       "8700   63661.951573      2.0     137.0      12.0      12.0       NaN  \n",
       "8701   17694.783346      1.0     144.0      10.0      10.0      1.18  \n",
       "8703   39426.299948      1.0     142.0       7.0       7.0      1.56  \n",
       "\n",
       "[4903 rows x 66 columns]"
      ]
     },
     "execution_count": 222,
     "metadata": {},
     "output_type": "execute_result"
    }
   ],
   "source": [
    "merged2 = merged[merged.RIDAGEYR >= 20]\n",
    "merged3 = merged2.dropna(subset=['BMXHT', 'BMXLEG', 'BMXARML'])\n",
    "merged3\n",
    "\n",
    "# there are 4903 rows now"
   ]
  },
  {
   "cell_type": "markdown",
   "id": "systematic-display",
   "metadata": {},
   "source": [
    "- [5 pts] Report the following correlation values for the filtered data.\n",
    "    - What is the correlation between standing height and upper leg length?\n",
    "    - What is the correlation between standing height and upper arm length?\n",
    "    - What is the correlation between upper leg length and upper arm length?"
   ]
  },
  {
   "cell_type": "code",
   "execution_count": 225,
   "id": "surrounded-praise",
   "metadata": {},
   "outputs": [
    {
     "name": "stdout",
     "output_type": "stream",
     "text": [
      "0.7892041831850632\n",
      "0.8063834124237311\n",
      "0.6532134714354068\n"
     ]
    }
   ],
   "source": [
    "corr1 = merged3.BMXHT.corr(merged3.BMXLEG)\n",
    "print(corr1)\n",
    "corr2 = merged3.BMXHT.corr(merged3.BMXARML)\n",
    "print(corr2)\n",
    "corr3 = merged3.BMXLEG.corr(merged3.BMXARML)\n",
    "print(corr3)"
   ]
  },
  {
   "cell_type": "markdown",
   "id": "armed-subscription",
   "metadata": {},
   "source": [
    "- [5 pts] Read the documentation on `pandas.cut()`. Make adult age groups by decade: i.e. adults aged 20-29.9, adults aged 30-39.9, ... adults aged 70-79.9, adults aged 80+ (7 groups total). Add the column to the filtered data. Print the `.head()` of the resulting data.\n",
    "\n",
    "https://pandas.pydata.org/pandas-docs/stable/reference/api/pandas.cut.html"
   ]
  },
  {
   "cell_type": "code",
   "execution_count": 250,
   "id": "gentle-evaluation",
   "metadata": {},
   "outputs": [
    {
     "name": "stderr",
     "output_type": "stream",
     "text": [
      "/var/folders/4v/lv70_t_92799hshrhcrbkq2m0000gn/T/ipykernel_15506/3161117829.py:3: SettingWithCopyWarning: \n",
      "A value is trying to be set on a copy of a slice from a DataFrame.\n",
      "Try using .loc[row_indexer,col_indexer] = value instead\n",
      "\n",
      "See the caveats in the documentation: https://pandas.pydata.org/pandas-docs/stable/user_guide/indexing.html#returning-a-view-versus-a-copy\n",
      "  merged3['Age Groups'] = binned\n"
     ]
    },
    {
     "data": {
      "text/html": [
       "<div>\n",
       "<style scoped>\n",
       "    .dataframe tbody tr th:only-of-type {\n",
       "        vertical-align: middle;\n",
       "    }\n",
       "\n",
       "    .dataframe tbody tr th {\n",
       "        vertical-align: top;\n",
       "    }\n",
       "\n",
       "    .dataframe thead th {\n",
       "        text-align: right;\n",
       "    }\n",
       "</style>\n",
       "<table border=\"1\" class=\"dataframe\">\n",
       "  <thead>\n",
       "    <tr style=\"text-align: right;\">\n",
       "      <th></th>\n",
       "      <th>SEQN</th>\n",
       "      <th>BMDSTATS</th>\n",
       "      <th>BMXWT</th>\n",
       "      <th>BMIWT</th>\n",
       "      <th>BMXRECUM</th>\n",
       "      <th>BMIRECUM</th>\n",
       "      <th>BMXHEAD</th>\n",
       "      <th>BMIHEAD</th>\n",
       "      <th>BMXHT</th>\n",
       "      <th>BMIHT</th>\n",
       "      <th>...</th>\n",
       "      <th>DMDHRMAZ</th>\n",
       "      <th>DMDHSEDZ</th>\n",
       "      <th>WTINT2YR</th>\n",
       "      <th>WTMEC2YR</th>\n",
       "      <th>SDMVPSU</th>\n",
       "      <th>SDMVSTRA</th>\n",
       "      <th>INDHHIN2</th>\n",
       "      <th>INDFMIN2</th>\n",
       "      <th>INDFMPIR</th>\n",
       "      <th>Age Groups</th>\n",
       "    </tr>\n",
       "  </thead>\n",
       "  <tbody>\n",
       "    <tr>\n",
       "      <th>2</th>\n",
       "      <td>93705.0</td>\n",
       "      <td>1.0</td>\n",
       "      <td>79.5</td>\n",
       "      <td>NaN</td>\n",
       "      <td>NaN</td>\n",
       "      <td>NaN</td>\n",
       "      <td>NaN</td>\n",
       "      <td>NaN</td>\n",
       "      <td>158.3</td>\n",
       "      <td>NaN</td>\n",
       "      <td>...</td>\n",
       "      <td>2.0</td>\n",
       "      <td>NaN</td>\n",
       "      <td>8614.571172</td>\n",
       "      <td>8338.419786</td>\n",
       "      <td>2.0</td>\n",
       "      <td>145.0</td>\n",
       "      <td>3.0</td>\n",
       "      <td>3.0</td>\n",
       "      <td>0.82</td>\n",
       "      <td>(60, 70]</td>\n",
       "    </tr>\n",
       "    <tr>\n",
       "      <th>5</th>\n",
       "      <td>93708.0</td>\n",
       "      <td>1.0</td>\n",
       "      <td>53.5</td>\n",
       "      <td>NaN</td>\n",
       "      <td>NaN</td>\n",
       "      <td>NaN</td>\n",
       "      <td>NaN</td>\n",
       "      <td>NaN</td>\n",
       "      <td>150.2</td>\n",
       "      <td>NaN</td>\n",
       "      <td>...</td>\n",
       "      <td>1.0</td>\n",
       "      <td>1.0</td>\n",
       "      <td>13329.450589</td>\n",
       "      <td>14372.488765</td>\n",
       "      <td>2.0</td>\n",
       "      <td>138.0</td>\n",
       "      <td>6.0</td>\n",
       "      <td>6.0</td>\n",
       "      <td>1.63</td>\n",
       "      <td>(60, 70]</td>\n",
       "    </tr>\n",
       "    <tr>\n",
       "      <th>6</th>\n",
       "      <td>93709.0</td>\n",
       "      <td>1.0</td>\n",
       "      <td>88.8</td>\n",
       "      <td>NaN</td>\n",
       "      <td>NaN</td>\n",
       "      <td>NaN</td>\n",
       "      <td>NaN</td>\n",
       "      <td>NaN</td>\n",
       "      <td>151.1</td>\n",
       "      <td>NaN</td>\n",
       "      <td>...</td>\n",
       "      <td>2.0</td>\n",
       "      <td>NaN</td>\n",
       "      <td>12043.388271</td>\n",
       "      <td>12277.556662</td>\n",
       "      <td>1.0</td>\n",
       "      <td>136.0</td>\n",
       "      <td>2.0</td>\n",
       "      <td>2.0</td>\n",
       "      <td>0.41</td>\n",
       "      <td>(70, 80]</td>\n",
       "    </tr>\n",
       "    <tr>\n",
       "      <th>8</th>\n",
       "      <td>93711.0</td>\n",
       "      <td>1.0</td>\n",
       "      <td>62.1</td>\n",
       "      <td>NaN</td>\n",
       "      <td>NaN</td>\n",
       "      <td>NaN</td>\n",
       "      <td>NaN</td>\n",
       "      <td>NaN</td>\n",
       "      <td>170.6</td>\n",
       "      <td>NaN</td>\n",
       "      <td>...</td>\n",
       "      <td>1.0</td>\n",
       "      <td>3.0</td>\n",
       "      <td>11178.260106</td>\n",
       "      <td>12390.919724</td>\n",
       "      <td>2.0</td>\n",
       "      <td>134.0</td>\n",
       "      <td>15.0</td>\n",
       "      <td>15.0</td>\n",
       "      <td>5.00</td>\n",
       "      <td>(50, 60]</td>\n",
       "    </tr>\n",
       "    <tr>\n",
       "      <th>10</th>\n",
       "      <td>93713.0</td>\n",
       "      <td>1.0</td>\n",
       "      <td>74.9</td>\n",
       "      <td>NaN</td>\n",
       "      <td>NaN</td>\n",
       "      <td>NaN</td>\n",
       "      <td>NaN</td>\n",
       "      <td>NaN</td>\n",
       "      <td>178.6</td>\n",
       "      <td>NaN</td>\n",
       "      <td>...</td>\n",
       "      <td>2.0</td>\n",
       "      <td>NaN</td>\n",
       "      <td>174806.575152</td>\n",
       "      <td>166841.660681</td>\n",
       "      <td>1.0</td>\n",
       "      <td>140.0</td>\n",
       "      <td>6.0</td>\n",
       "      <td>6.0</td>\n",
       "      <td>2.65</td>\n",
       "      <td>(60, 70]</td>\n",
       "    </tr>\n",
       "  </tbody>\n",
       "</table>\n",
       "<p>5 rows × 67 columns</p>\n",
       "</div>"
      ],
      "text/plain": [
       "       SEQN  BMDSTATS  BMXWT  BMIWT  BMXRECUM  BMIRECUM  BMXHEAD  BMIHEAD  \\\n",
       "2   93705.0       1.0   79.5    NaN       NaN       NaN      NaN      NaN   \n",
       "5   93708.0       1.0   53.5    NaN       NaN       NaN      NaN      NaN   \n",
       "6   93709.0       1.0   88.8    NaN       NaN       NaN      NaN      NaN   \n",
       "8   93711.0       1.0   62.1    NaN       NaN       NaN      NaN      NaN   \n",
       "10  93713.0       1.0   74.9    NaN       NaN       NaN      NaN      NaN   \n",
       "\n",
       "    BMXHT  BMIHT  ...  DMDHRMAZ  DMDHSEDZ       WTINT2YR       WTMEC2YR  \\\n",
       "2   158.3    NaN  ...       2.0       NaN    8614.571172    8338.419786   \n",
       "5   150.2    NaN  ...       1.0       1.0   13329.450589   14372.488765   \n",
       "6   151.1    NaN  ...       2.0       NaN   12043.388271   12277.556662   \n",
       "8   170.6    NaN  ...       1.0       3.0   11178.260106   12390.919724   \n",
       "10  178.6    NaN  ...       2.0       NaN  174806.575152  166841.660681   \n",
       "\n",
       "    SDMVPSU  SDMVSTRA  INDHHIN2  INDFMIN2  INDFMPIR  Age Groups  \n",
       "2       2.0     145.0       3.0       3.0      0.82    (60, 70]  \n",
       "5       2.0     138.0       6.0       6.0      1.63    (60, 70]  \n",
       "6       1.0     136.0       2.0       2.0      0.41    (70, 80]  \n",
       "8       2.0     134.0      15.0      15.0      5.00    (50, 60]  \n",
       "10      1.0     140.0       6.0       6.0      2.65    (60, 70]  \n",
       "\n",
       "[5 rows x 67 columns]"
      ]
     },
     "execution_count": 250,
     "metadata": {},
     "output_type": "execute_result"
    }
   ],
   "source": [
    "bins = [20, 30, 40, 50, 60, 70, 80, 90]\n",
    "binned = pd.cut(merged3.RIDAGEYR.values, bins)\n",
    "merged3['Age Groups'] = binned\n",
    "merged3.head()"
   ]
  },
  {
   "cell_type": "markdown",
   "id": "fleet-tribe",
   "metadata": {},
   "source": [
    "- [5 pts] For each age group, calculate the mean of the three values. The result should be a table with 7 rows and three columns. Modify the index so the row of each index is the smallest age in each decade: i.e. `20, 30, 40, ... , 80`. Print the resulting table."
   ]
  },
  {
   "cell_type": "code",
   "execution_count": 257,
   "id": "coupled-joining",
   "metadata": {},
   "outputs": [
    {
     "data": {
      "text/html": [
       "<div>\n",
       "<style scoped>\n",
       "    .dataframe tbody tr th:only-of-type {\n",
       "        vertical-align: middle;\n",
       "    }\n",
       "\n",
       "    .dataframe tbody tr th {\n",
       "        vertical-align: top;\n",
       "    }\n",
       "\n",
       "    .dataframe thead th {\n",
       "        text-align: right;\n",
       "    }\n",
       "</style>\n",
       "<table border=\"1\" class=\"dataframe\">\n",
       "  <thead>\n",
       "    <tr style=\"text-align: right;\">\n",
       "      <th></th>\n",
       "      <th>height</th>\n",
       "      <th>leg length</th>\n",
       "      <th>arm length</th>\n",
       "    </tr>\n",
       "    <tr>\n",
       "      <th>Age Groups</th>\n",
       "      <th></th>\n",
       "      <th></th>\n",
       "      <th></th>\n",
       "    </tr>\n",
       "  </thead>\n",
       "  <tbody>\n",
       "    <tr>\n",
       "      <th>(20, 30]</th>\n",
       "      <td>167.590934</td>\n",
       "      <td>40.495264</td>\n",
       "      <td>37.148173</td>\n",
       "    </tr>\n",
       "    <tr>\n",
       "      <th>(30, 40]</th>\n",
       "      <td>167.983421</td>\n",
       "      <td>40.136184</td>\n",
       "      <td>37.337368</td>\n",
       "    </tr>\n",
       "    <tr>\n",
       "      <th>(40, 50]</th>\n",
       "      <td>167.559079</td>\n",
       "      <td>39.295393</td>\n",
       "      <td>37.468564</td>\n",
       "    </tr>\n",
       "    <tr>\n",
       "      <th>(50, 60]</th>\n",
       "      <td>166.215039</td>\n",
       "      <td>38.398541</td>\n",
       "      <td>37.249944</td>\n",
       "    </tr>\n",
       "    <tr>\n",
       "      <th>(60, 70]</th>\n",
       "      <td>165.362701</td>\n",
       "      <td>38.089711</td>\n",
       "      <td>37.357342</td>\n",
       "    </tr>\n",
       "    <tr>\n",
       "      <th>(70, 80]</th>\n",
       "      <td>164.019974</td>\n",
       "      <td>37.669390</td>\n",
       "      <td>37.432815</td>\n",
       "    </tr>\n",
       "    <tr>\n",
       "      <th>(80, 90]</th>\n",
       "      <td>NaN</td>\n",
       "      <td>NaN</td>\n",
       "      <td>NaN</td>\n",
       "    </tr>\n",
       "  </tbody>\n",
       "</table>\n",
       "</div>"
      ],
      "text/plain": [
       "                height  leg length  arm length\n",
       "Age Groups                                    \n",
       "(20, 30]    167.590934   40.495264   37.148173\n",
       "(30, 40]    167.983421   40.136184   37.337368\n",
       "(40, 50]    167.559079   39.295393   37.468564\n",
       "(50, 60]    166.215039   38.398541   37.249944\n",
       "(60, 70]    165.362701   38.089711   37.357342\n",
       "(70, 80]    164.019974   37.669390   37.432815\n",
       "(80, 90]           NaN         NaN         NaN"
      ]
     },
     "execution_count": 257,
     "metadata": {},
     "output_type": "execute_result"
    }
   ],
   "source": [
    "meanheight = merged3['BMXHT'].groupby(merged3['Age Groups']).mean()\n",
    "meanlegL = merged3['BMXLEG'].groupby(merged3['Age Groups']).mean()\n",
    "meanarmL = merged3['BMXARML'].groupby(merged3['Age Groups']).mean()\n",
    "\n",
    "j = pd.DataFrame({'height': meanheight, 'leg length': meanlegL, 'arm length': meanarmL})\n",
    "j"
   ]
  },
  {
   "cell_type": "markdown",
   "id": "unexpected-american",
   "metadata": {},
   "source": [
    "- [5 pts] Make a plot with three lines showing the relationship between the age decade and the mean height, leg length, and arm length.\n",
    "     - Plot three lines: mean height, mean leg length, mean arm length.\n",
    "     - The x-axis will be the age decade, and the y-axis will be the mean measurement for each age group.\n",
    "     - Be sure to include a legend"
   ]
  },
  {
   "cell_type": "code",
   "execution_count": null,
   "id": "spare-alarm",
   "metadata": {},
   "outputs": [],
   "source": []
  },
  {
   "cell_type": "markdown",
   "id": "prospective-jacksonville",
   "metadata": {},
   "source": [
    "- [5 pts] Because leg length and arm length are similar in scale, but height is not, add a fourth column - 'adjusted mean height' - which is the mean height minus 128 cm.\n",
    "- Create the same plot as before: \n",
    "    - Plot three lines: adjusted mean height, mean leg length, mean arm length.\n",
    "    - The x-axis will be the age decade, and the y-axis will be the mean measurement for each age group.\n",
    "    - Include a legend"
   ]
  },
  {
   "cell_type": "code",
   "execution_count": null,
   "id": "awful-implementation",
   "metadata": {},
   "outputs": [],
   "source": []
  },
  {
   "cell_type": "markdown",
   "id": "freelance-evanescence",
   "metadata": {},
   "source": [
    "- [5 pts] Comment on what you think the data says about the questions: What is the relationship between height, leg length, and arm length? Does this relationship change with age? Include any additional analysis you deem appropriate."
   ]
  },
  {
   "cell_type": "code",
   "execution_count": null,
   "id": "practical-bundle",
   "metadata": {},
   "outputs": [],
   "source": []
  },
  {
   "cell_type": "markdown",
   "id": "civilian-testing",
   "metadata": {},
   "source": [
    "## Part 2"
   ]
  },
  {
   "cell_type": "markdown",
   "id": "disabled-hammer",
   "metadata": {},
   "source": [
    "### Function A [10 pts]\n",
    "\n",
    "Write a function `edit_str(s, i, w)` that will modify a given string by replacing the character at a given position with another given string.\n",
    "\n",
    "The arguments are:\n",
    "\n",
    "- `s` the starting string \n",
    "- `i` the index of the character to be replaced\n",
    "- `w` the new string to replace the character at `i`\n",
    "\n",
    "The function should return the value, not just print to the screen.\n",
    "\n",
    "For example:\n",
    "\n",
    "- `edit_str(\"hello\", 0, \"b\")` will produce: `\"bello\"`\n",
    "- `edit_str(\"0123456\", 4, \"you\")` will produce: `\"0123you56\"`"
   ]
  },
  {
   "cell_type": "code",
   "execution_count": 60,
   "id": "controversial-expert",
   "metadata": {},
   "outputs": [],
   "source": [
    "def edit_str(s, i , w):\n",
    "    s = s[:i] + w + s[i+1:]\n",
    "    return s"
   ]
  },
  {
   "cell_type": "code",
   "execution_count": 61,
   "id": "similar-mercy",
   "metadata": {},
   "outputs": [
    {
     "data": {
      "text/plain": [
       "'bello'"
      ]
     },
     "execution_count": 61,
     "metadata": {},
     "output_type": "execute_result"
    }
   ],
   "source": [
    "# test case do not modify\n",
    "edit_str(\"hello\", 0, \"b\")"
   ]
  },
  {
   "cell_type": "code",
   "execution_count": 62,
   "id": "fitted-linux",
   "metadata": {},
   "outputs": [
    {
     "data": {
      "text/plain": [
       "'0123you56'"
      ]
     },
     "execution_count": 62,
     "metadata": {},
     "output_type": "execute_result"
    }
   ],
   "source": [
    "# test case do not modify\n",
    "edit_str(\"0123456\", 4, \"you\")"
   ]
  },
  {
   "cell_type": "markdown",
   "id": "geological-westminster",
   "metadata": {},
   "source": [
    "### Function B [10 pts]\n",
    "\n",
    "Write a function `extract_digits(l)` that will go through a list of strings. It will return a dictionary with a count of all digits it encountered.\n",
    "\n",
    "The argument is:\n",
    "\n",
    "- `l` a list of strings where some elements are digits.\n",
    "\n",
    "The function should return a dictionary of length 10. The keys are the digits 0 through 9. The values associated with each key is the count of how many times the digit was seen.\n",
    "\n",
    "For example:\n",
    "\n"
   ]
  },
  {
   "cell_type": "code",
   "execution_count": 69,
   "id": "exciting-remove",
   "metadata": {},
   "outputs": [],
   "source": [
    "def extract_digits(l):\n",
    "    digits = {'0':0, '1':0, '2':0, '3':0, '4':0, '5':0, '6':0, '7':0, '8':0, '9':0}\n",
    "    l2 = []\n",
    "    \n",
    "    for string in l:\n",
    "        for letter in string:\n",
    "            l2.append(letter)\n",
    "        \n",
    "    for letter in l2:\n",
    "        if letter.isdigit():\n",
    "            digits[letter] += 1\n",
    "            \n",
    "    return digits"
   ]
  },
  {
   "cell_type": "code",
   "execution_count": 70,
   "id": "continuous-award",
   "metadata": {},
   "outputs": [
    {
     "data": {
      "text/plain": [
       "{'0': 0,\n",
       " '1': 3,\n",
       " '2': 2,\n",
       " '3': 1,\n",
       " '4': 0,\n",
       " '5': 0,\n",
       " '6': 0,\n",
       " '7': 0,\n",
       " '8': 0,\n",
       " '9': 7}"
      ]
     },
     "execution_count": 70,
     "metadata": {},
     "output_type": "execute_result"
    }
   ],
   "source": [
    "# test case, do not modify\n",
    "l = ['abc123', 'def12', '1', '9999', '99 friend 9']\n",
    "extract_digits(l)"
   ]
  },
  {
   "cell_type": "code",
   "execution_count": 71,
   "id": "contemporary-expansion",
   "metadata": {
    "tags": []
   },
   "outputs": [
    {
     "data": {
      "text/plain": [
       "{'0': 2,\n",
       " '1': 8,\n",
       " '2': 6,\n",
       " '3': 6,\n",
       " '4': 5,\n",
       " '5': 7,\n",
       " '6': 2,\n",
       " '7': 3,\n",
       " '8': 5,\n",
       " '9': 5}"
      ]
     },
     "execution_count": 71,
     "metadata": {},
     "output_type": "execute_result"
    }
   ],
   "source": [
    "l = ['3.141592653589793', '2.718281828459045', '1.4142135623730951']\n",
    "extract_digits(l)"
   ]
  },
  {
   "cell_type": "markdown",
   "id": "compact-netherlands",
   "metadata": {},
   "source": [
    "## Class Definition [20 pts]\n",
    "\n",
    "Define a class, `Account`, which will be used to store a bank account.\n",
    "\n",
    "The `Account` class will hold info:\n",
    "\n",
    "- `name`: a string with the account holder's name\n",
    "- `balance`: a float to  represent the money in the account.\n",
    "\n",
    "The class should have the following behaviors:\n",
    "\n",
    "- A new account for \"Miles\" with \\$101.50 can be created with `Account('Miles', 101.5)`. If no name is provided, the default name should be 'anon', and the default starting balance should be 0.\n",
    "- The string representation of the account is: `name's account. Balance: $x`. For example, `Miles's account. Balance: $101.50`. There should be two places after the decimal.\n",
    "- Create a method `deposit(x)`. You may assume `x` will always be positive. It will deposit `x` dollars to the account. After depositing, it will print the new balance to the screen.\n",
    "- Create a method `withdraw(x)`. You may assume `x` will always be positive. It will first check to see if the balance is at least as large as `x`. If the balance is less than `x`, it will raise a ValueError exception. If the balance is greater than `x`, it will deduct `x` dollars from the account and print the new balance to the screen.\n",
    "- You should be able to compare one Account instance with another Account instance by comparing the dollar amounts in them.\n",
    "- If you add one account with another account, it will combine the balances together. The name on the new account will be `name1 and name2`. For example:\n",
    "    - `acct1 = Account(\"Miles\", 101.5)`\n",
    "    - `acct2 = Account(\"Krystal\", 120)`\n",
    "    - `acct3 = acct1 + acct2`. `print(acct3)` produces `Miles and Krystal's account. Balance: $221.50`\n"
   ]
  },
  {
   "cell_type": "code",
   "execution_count": 141,
   "id": "irish-simulation",
   "metadata": {},
   "outputs": [],
   "source": [
    "class Account:\n",
    "    def __init__(self, name = 'anon', balance = 0):\n",
    "        self.name = name\n",
    "        self.balance = balance\n",
    "        \n",
    "    def __str__(self):\n",
    "        return \"{}'s account. Balance: ${:.2f}\" .format(self.name, self.balance)\n",
    "    \n",
    "    def deposit(self, x):\n",
    "        self.balance += x\n",
    "        print(self.balance)\n",
    "        \n",
    "    def withdraw(self, x):\n",
    "        if self.balance < x:\n",
    "            raise ValueError('Current account balance is not enough to withdraw the requested amount.')\n",
    "        else:\n",
    "            self.balance -= x\n",
    "        \n",
    "        print(self.balance)\n",
    "        \n",
    "    def __lt__(self, other):\n",
    "        a1 = self.balance\n",
    "        a2 = other.balance\n",
    "        return a1 < a2\n",
    "    \n",
    "    def __eq__(self, other):\n",
    "        a1 = self.balance\n",
    "        a2 = other.balance\n",
    "        return a1 == a2\n",
    "    \n",
    "    def __add__(self, other):\n",
    "        a3 = Account()\n",
    "        a3.name = \"{} and {}\" .format(self.name, other.name)\n",
    "        a3.balance = self.balance + other.balance\n",
    "        return a3"
   ]
  },
  {
   "cell_type": "code",
   "execution_count": 142,
   "id": "persistent-funds",
   "metadata": {},
   "outputs": [],
   "source": [
    "# test cases. do not modify\n",
    "acct1 = Account(\"Miles\", 101.5)"
   ]
  },
  {
   "cell_type": "code",
   "execution_count": 143,
   "id": "active-letters",
   "metadata": {},
   "outputs": [
    {
     "name": "stdout",
     "output_type": "stream",
     "text": [
      "Miles's account. Balance: $101.50\n"
     ]
    }
   ],
   "source": [
    "print(acct1)"
   ]
  },
  {
   "cell_type": "code",
   "execution_count": 144,
   "id": "binding-boxing",
   "metadata": {},
   "outputs": [
    {
     "name": "stdout",
     "output_type": "stream",
     "text": [
      "121.5\n"
     ]
    }
   ],
   "source": [
    "acct1.deposit(20)"
   ]
  },
  {
   "cell_type": "code",
   "execution_count": 145,
   "id": "patient-pastor",
   "metadata": {},
   "outputs": [
    {
     "name": "stdout",
     "output_type": "stream",
     "text": [
      "101.5\n"
     ]
    }
   ],
   "source": [
    "acct1.withdraw(20)"
   ]
  },
  {
   "cell_type": "code",
   "execution_count": 146,
   "id": "metric-composer",
   "metadata": {
    "tags": [
     "raises-exception"
    ]
   },
   "outputs": [
    {
     "ename": "ValueError",
     "evalue": "Current account balance is not enough to withdraw the requested amount.",
     "output_type": "error",
     "traceback": [
      "\u001b[0;31m---------------------------------------------------------------------------\u001b[0m",
      "\u001b[0;31mValueError\u001b[0m                                Traceback (most recent call last)",
      "Input \u001b[0;32mIn [146]\u001b[0m, in \u001b[0;36m<cell line: 1>\u001b[0;34m()\u001b[0m\n\u001b[0;32m----> 1\u001b[0m \u001b[43macct1\u001b[49m\u001b[38;5;241;43m.\u001b[39;49m\u001b[43mwithdraw\u001b[49m\u001b[43m(\u001b[49m\u001b[38;5;241;43m200\u001b[39;49m\u001b[43m)\u001b[49m\n",
      "Input \u001b[0;32mIn [141]\u001b[0m, in \u001b[0;36mAccount.withdraw\u001b[0;34m(self, x)\u001b[0m\n\u001b[1;32m     13\u001b[0m \u001b[38;5;28;01mdef\u001b[39;00m \u001b[38;5;21mwithdraw\u001b[39m(\u001b[38;5;28mself\u001b[39m, x):\n\u001b[1;32m     14\u001b[0m     \u001b[38;5;28;01mif\u001b[39;00m \u001b[38;5;28mself\u001b[39m\u001b[38;5;241m.\u001b[39mbalance \u001b[38;5;241m<\u001b[39m x:\n\u001b[0;32m---> 15\u001b[0m         \u001b[38;5;28;01mraise\u001b[39;00m \u001b[38;5;167;01mValueError\u001b[39;00m(\u001b[38;5;124m'\u001b[39m\u001b[38;5;124mCurrent account balance is not enough to withdraw the requested amount.\u001b[39m\u001b[38;5;124m'\u001b[39m)\n\u001b[1;32m     16\u001b[0m     \u001b[38;5;28;01melse\u001b[39;00m:\n\u001b[1;32m     17\u001b[0m         \u001b[38;5;28mself\u001b[39m\u001b[38;5;241m.\u001b[39mbalance \u001b[38;5;241m-\u001b[39m\u001b[38;5;241m=\u001b[39m x\n",
      "\u001b[0;31mValueError\u001b[0m: Current account balance is not enough to withdraw the requested amount."
     ]
    }
   ],
   "source": [
    "acct1.withdraw(200)"
   ]
  },
  {
   "cell_type": "code",
   "execution_count": 147,
   "id": "eligible-drinking",
   "metadata": {},
   "outputs": [
    {
     "name": "stdout",
     "output_type": "stream",
     "text": [
      "101.5\n"
     ]
    }
   ],
   "source": [
    "acct1.withdraw(0)"
   ]
  },
  {
   "cell_type": "code",
   "execution_count": 148,
   "id": "developed-dress",
   "metadata": {},
   "outputs": [],
   "source": [
    "acct2 = Account(\"Krystal\", 120)"
   ]
  },
  {
   "cell_type": "code",
   "execution_count": 149,
   "id": "secret-hampton",
   "metadata": {},
   "outputs": [
    {
     "name": "stdout",
     "output_type": "stream",
     "text": [
      "Krystal's account. Balance: $120.00\n"
     ]
    }
   ],
   "source": [
    "print(acct2)"
   ]
  },
  {
   "cell_type": "code",
   "execution_count": 150,
   "id": "another-carry",
   "metadata": {},
   "outputs": [
    {
     "data": {
      "text/plain": [
       "False"
      ]
     },
     "execution_count": 150,
     "metadata": {},
     "output_type": "execute_result"
    }
   ],
   "source": [
    "acct1 > acct2"
   ]
  },
  {
   "cell_type": "code",
   "execution_count": 151,
   "id": "simple-missouri",
   "metadata": {},
   "outputs": [
    {
     "data": {
      "text/plain": [
       "True"
      ]
     },
     "execution_count": 151,
     "metadata": {},
     "output_type": "execute_result"
    }
   ],
   "source": [
    "acct1 < acct2"
   ]
  },
  {
   "cell_type": "code",
   "execution_count": 152,
   "id": "contemporary-height",
   "metadata": {},
   "outputs": [],
   "source": [
    "acct3 = acct1 + acct2"
   ]
  },
  {
   "cell_type": "code",
   "execution_count": 153,
   "id": "political-democracy",
   "metadata": {},
   "outputs": [
    {
     "name": "stdout",
     "output_type": "stream",
     "text": [
      "Miles and Krystal's account. Balance: $221.50\n"
     ]
    }
   ],
   "source": [
    "print(acct3)"
   ]
  }
 ],
 "metadata": {
  "kernelspec": {
   "display_name": "Python 3 (ipykernel)",
   "language": "python",
   "name": "python3"
  },
  "language_info": {
   "codemirror_mode": {
    "name": "ipython",
    "version": 3
   },
   "file_extension": ".py",
   "mimetype": "text/x-python",
   "name": "python",
   "nbconvert_exporter": "python",
   "pygments_lexer": "ipython3",
   "version": "3.9.12"
  }
 },
 "nbformat": 4,
 "nbformat_minor": 5
}
